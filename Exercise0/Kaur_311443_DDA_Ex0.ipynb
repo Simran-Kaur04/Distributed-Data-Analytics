{
 "cells": [
  {
   "cell_type": "markdown",
   "id": "2945410f",
   "metadata": {},
   "source": [
    "# DDA LAB\n",
    "\n",
    "# SIMRAN KAUR\n",
    "\n",
    "# 311443\n",
    "\n",
    "# EXERCISE 0"
   ]
  },
  {
   "cell_type": "markdown",
   "id": "f40d8558",
   "metadata": {},
   "source": [
    "# Exercise 1: Pandas and Numpy"
   ]
  },
  {
   "cell_type": "markdown",
   "id": "db8a3e29",
   "metadata": {},
   "source": [
    "# Matrix Multiplication"
   ]
  },
  {
   "cell_type": "markdown",
   "id": "9f5a20bb",
   "metadata": {},
   "source": [
    "Create a numpy matrix A of dimensions n × m, where n = 100 and m = 20. Initialize Matrix A with random values. Create a numpy vector v of dimensions m × 1. Initialize the vector v with values from a normal distribution using µ = 2 and σ = 0.01. Perform\n",
    "the following operations:"
   ]
  },
  {
   "cell_type": "markdown",
   "id": "7f548f72",
   "metadata": {},
   "source": [
    "Import neccesaary libraries:"
   ]
  },
  {
   "cell_type": "code",
   "execution_count": 231,
   "id": "a4b0c967",
   "metadata": {},
   "outputs": [],
   "source": [
    "import numpy as np\n",
    "np.random.seed(3116)\n",
    "import pandas as pd\n",
    "import matplotlib.pyplot as plt"
   ]
  },
  {
   "cell_type": "code",
   "execution_count": 232,
   "id": "9048ac9d",
   "metadata": {},
   "outputs": [],
   "source": [
    "n = 100\n",
    "m = 20\n",
    "A = np.random.rand(n, m)               # random matrix of size n*m\n",
    "v = np.random.normal(2, 0.01, (m, 1))    # vector v follows normal distribution with mean = 2 and variance = 0.01"
   ]
  },
  {
   "cell_type": "markdown",
   "id": "9d1f4315",
   "metadata": {},
   "source": [
    "Iteratively multiply (element-wise) each row of the matrix A with vector v and sum the result of each iteration in another vector c. This operation needs to be done with for-loops, not numpy built-in operations."
   ]
  },
  {
   "cell_type": "code",
   "execution_count": 233,
   "id": "0b343122",
   "metadata": {},
   "outputs": [],
   "source": [
    "c = np.zeros((n, 1))\n",
    "for i in range(n):\n",
    "    s = 0\n",
    "    for k in range(m):\n",
    "        s += A[i, k]*v[k, 0]\n",
    "    c[i, 0] = s"
   ]
  },
  {
   "cell_type": "code",
   "execution_count": 234,
   "id": "eef02a89",
   "metadata": {},
   "outputs": [
    {
     "data": {
      "text/plain": [
       "array([[17.85029831],\n",
       "       [17.39078046],\n",
       "       [23.92257886],\n",
       "       [16.10361252],\n",
       "       [21.91389217],\n",
       "       [20.71572109],\n",
       "       [20.70414083],\n",
       "       [21.73074791],\n",
       "       [18.03265788],\n",
       "       [18.42550164],\n",
       "       [20.09508694],\n",
       "       [21.55314702],\n",
       "       [22.78257233],\n",
       "       [22.97044322],\n",
       "       [15.74132265],\n",
       "       [17.06115464],\n",
       "       [18.59471626],\n",
       "       [16.62189777],\n",
       "       [23.46061155],\n",
       "       [24.11633879],\n",
       "       [22.57835999],\n",
       "       [19.64265353],\n",
       "       [17.77751012],\n",
       "       [18.46844961],\n",
       "       [22.38443743],\n",
       "       [23.10163005],\n",
       "       [18.91813174],\n",
       "       [18.7712037 ],\n",
       "       [17.55031908],\n",
       "       [16.55344324],\n",
       "       [16.87807418],\n",
       "       [21.7068468 ],\n",
       "       [16.59520652],\n",
       "       [19.28456719],\n",
       "       [18.64078492],\n",
       "       [18.59105926],\n",
       "       [18.54718473],\n",
       "       [20.11876054],\n",
       "       [19.92635347],\n",
       "       [17.52525877],\n",
       "       [21.97329414],\n",
       "       [19.6983184 ],\n",
       "       [23.73853907],\n",
       "       [19.09608305],\n",
       "       [20.31795672],\n",
       "       [22.58078777],\n",
       "       [21.20143414],\n",
       "       [17.32665291],\n",
       "       [18.94688536],\n",
       "       [21.29038177],\n",
       "       [20.84622189],\n",
       "       [23.19800458],\n",
       "       [17.11366091],\n",
       "       [24.14144434],\n",
       "       [17.03363191],\n",
       "       [20.43472884],\n",
       "       [22.69827618],\n",
       "       [21.27844204],\n",
       "       [22.18278192],\n",
       "       [21.16529422],\n",
       "       [13.44535602],\n",
       "       [19.32608122],\n",
       "       [17.9124977 ],\n",
       "       [18.48819489],\n",
       "       [17.4209562 ],\n",
       "       [16.00307368],\n",
       "       [14.73277605],\n",
       "       [17.16858432],\n",
       "       [22.83904105],\n",
       "       [20.11802772],\n",
       "       [21.72056128],\n",
       "       [17.45342202],\n",
       "       [20.77493631],\n",
       "       [19.74142791],\n",
       "       [19.73543866],\n",
       "       [14.75017129],\n",
       "       [20.08152742],\n",
       "       [12.46945761],\n",
       "       [24.34692527],\n",
       "       [18.95912442],\n",
       "       [17.80099456],\n",
       "       [20.25183613],\n",
       "       [17.54689172],\n",
       "       [16.71506422],\n",
       "       [14.97795403],\n",
       "       [21.3643909 ],\n",
       "       [20.24115154],\n",
       "       [21.37708409],\n",
       "       [21.7120462 ],\n",
       "       [21.10772141],\n",
       "       [20.41733953],\n",
       "       [17.21649377],\n",
       "       [21.9592206 ],\n",
       "       [21.70470071],\n",
       "       [24.84749528],\n",
       "       [16.7223465 ],\n",
       "       [15.93213613],\n",
       "       [20.33825518],\n",
       "       [19.42761292],\n",
       "       [18.96149313]])"
      ]
     },
     "execution_count": 234,
     "metadata": {},
     "output_type": "execute_result"
    }
   ],
   "source": [
    "c   "
   ]
  },
  {
   "cell_type": "markdown",
   "id": "77a08908",
   "metadata": {},
   "source": [
    "Find mean and standard deviation of the new vector c."
   ]
  },
  {
   "cell_type": "code",
   "execution_count": 235,
   "id": "d6499164",
   "metadata": {},
   "outputs": [
    {
     "data": {
      "text/plain": [
       "19.577200874901536"
      ]
     },
     "execution_count": 235,
     "metadata": {},
     "output_type": "execute_result"
    }
   ],
   "source": [
    "np.mean(c)"
   ]
  },
  {
   "cell_type": "code",
   "execution_count": 238,
   "id": "48b8bb5c",
   "metadata": {},
   "outputs": [
    {
     "data": {
      "text/plain": [
       "19.577200874901536"
      ]
     },
     "execution_count": 238,
     "metadata": {},
     "output_type": "execute_result"
    }
   ],
   "source": [
    "m = 0\n",
    "for i in range(c.shape[0]):\n",
    "    m = m + c[i, 0]\n",
    "mean = m/c.shape[0]\n",
    "mean"
   ]
  },
  {
   "cell_type": "code",
   "execution_count": 239,
   "id": "860d85e6",
   "metadata": {},
   "outputs": [
    {
     "data": {
      "text/plain": [
       "2.575225023396272"
      ]
     },
     "execution_count": 239,
     "metadata": {},
     "output_type": "execute_result"
    }
   ],
   "source": [
    "np.std(c)"
   ]
  },
  {
   "cell_type": "code",
   "execution_count": 245,
   "id": "28fc7f2d",
   "metadata": {},
   "outputs": [
    {
     "data": {
      "text/plain": [
       "2.575225023396272"
      ]
     },
     "execution_count": 245,
     "metadata": {},
     "output_type": "execute_result"
    }
   ],
   "source": [
    "st = 0\n",
    "for i in range(c.shape[0]):\n",
    "    st = st + (c[i, 0] - mean)**2\n",
    "st = np.sqrt(st/c.shape[0])\n",
    "st"
   ]
  },
  {
   "cell_type": "markdown",
   "id": "f4b25c22",
   "metadata": {},
   "source": [
    "Plot the histogram of vector c using 5 bins."
   ]
  },
  {
   "cell_type": "code",
   "execution_count": 246,
   "id": "2e943f47",
   "metadata": {},
   "outputs": [
    {
     "data": {
      "image/png": "[encoded data removed]",
      "text/plain": [
       "<Figure size 432x288 with 1 Axes>"
      ]
     },
     "metadata": {
      "needs_background": "light"
     },
     "output_type": "display_data"
    }
   ],
   "source": [
    "plt.hist(x = c, bins = 5)\n",
    "plt.title('Histogram of vector c')\n",
    "plt.show()"
   ]
  },
  {
   "cell_type": "markdown",
   "id": "ffb1c4f7",
   "metadata": {},
   "source": [
    "# Grading Program"
   ]
  },
  {
   "cell_type": "markdown",
   "id": "0a4aa256",
   "metadata": {},
   "source": [
    "This task puts you in the position that I end up at the end of every semester. Which is, grading your work and issuing the grades. In this task you are required to use the ‘Grades.csv’ File that has been provided on learnweb."
   ]
  },
  {
   "cell_type": "markdown",
   "id": "aa9129a1",
   "metadata": {},
   "source": [
    "Read the data from the csv."
   ]
  },
  {
   "cell_type": "code",
   "execution_count": 263,
   "id": "f377aaa0",
   "metadata": {},
   "outputs": [
    {
     "data": {
      "text/html": [
       "<div>\n",
       "<style scoped>\n",
       "    .dataframe tbody tr th:only-of-type {\n",
       "        vertical-align: middle;\n",
       "    }\n",
       "\n",
       "    .dataframe tbody tr th {\n",
       "        vertical-align: top;\n",
       "    }\n",
       "\n",
       "    .dataframe thead th {\n",
       "        text-align: right;\n",
       "    }\n",
       "</style>\n",
       "<table border=\"1\" class=\"dataframe\">\n",
       "  <thead>\n",
       "    <tr style=\"text-align: right;\">\n",
       "      <th></th>\n",
       "      <th>First Name</th>\n",
       "      <th>Last Name</th>\n",
       "      <th>English</th>\n",
       "      <th>Maths</th>\n",
       "      <th>Science</th>\n",
       "      <th>German</th>\n",
       "      <th>Sports</th>\n",
       "      <th>Final Grade</th>\n",
       "    </tr>\n",
       "  </thead>\n",
       "  <tbody>\n",
       "    <tr>\n",
       "      <th>0</th>\n",
       "      <td>Robyn</td>\n",
       "      <td>Hobgood</td>\n",
       "      <td>60.95</td>\n",
       "      <td>24.77</td>\n",
       "      <td>20.60</td>\n",
       "      <td>69.32</td>\n",
       "      <td>8.36</td>\n",
       "      <td>184.00</td>\n",
       "    </tr>\n",
       "    <tr>\n",
       "      <th>1</th>\n",
       "      <td>Eddy</td>\n",
       "      <td>Swearngin</td>\n",
       "      <td>100.00</td>\n",
       "      <td>12.99</td>\n",
       "      <td>100.00</td>\n",
       "      <td>52.24</td>\n",
       "      <td>100.00</td>\n",
       "      <td>365.23</td>\n",
       "    </tr>\n",
       "    <tr>\n",
       "      <th>2</th>\n",
       "      <td>Leoma</td>\n",
       "      <td>Bridgman</td>\n",
       "      <td>83.37</td>\n",
       "      <td>100.00</td>\n",
       "      <td>78.69</td>\n",
       "      <td>100.00</td>\n",
       "      <td>19.50</td>\n",
       "      <td>381.56</td>\n",
       "    </tr>\n",
       "    <tr>\n",
       "      <th>3</th>\n",
       "      <td>Arnetta</td>\n",
       "      <td>Peart</td>\n",
       "      <td>87.75</td>\n",
       "      <td>100.00</td>\n",
       "      <td>86.93</td>\n",
       "      <td>87.90</td>\n",
       "      <td>41.73</td>\n",
       "      <td>404.31</td>\n",
       "    </tr>\n",
       "    <tr>\n",
       "      <th>4</th>\n",
       "      <td>Maryland</td>\n",
       "      <td>Colby</td>\n",
       "      <td>100.00</td>\n",
       "      <td>100.00</td>\n",
       "      <td>100.00</td>\n",
       "      <td>18.87</td>\n",
       "      <td>88.72</td>\n",
       "      <td>407.59</td>\n",
       "    </tr>\n",
       "    <tr>\n",
       "      <th>5</th>\n",
       "      <td>Sherron</td>\n",
       "      <td>Sherron</td>\n",
       "      <td>92.06</td>\n",
       "      <td>55.91</td>\n",
       "      <td>93.93</td>\n",
       "      <td>-56.74</td>\n",
       "      <td>77.71</td>\n",
       "      <td>262.87</td>\n",
       "    </tr>\n",
       "    <tr>\n",
       "      <th>6</th>\n",
       "      <td>Glendora</td>\n",
       "      <td>Christopher</td>\n",
       "      <td>78.26</td>\n",
       "      <td>100.00</td>\n",
       "      <td>25.60</td>\n",
       "      <td>100.00</td>\n",
       "      <td>100.00</td>\n",
       "      <td>403.86</td>\n",
       "    </tr>\n",
       "    <tr>\n",
       "      <th>7</th>\n",
       "      <td>Darlena</td>\n",
       "      <td>Gunn</td>\n",
       "      <td>100.00</td>\n",
       "      <td>64.53</td>\n",
       "      <td>100.00</td>\n",
       "      <td>23.21</td>\n",
       "      <td>79.01</td>\n",
       "      <td>366.75</td>\n",
       "    </tr>\n",
       "    <tr>\n",
       "      <th>8</th>\n",
       "      <td>Aldo</td>\n",
       "      <td>Armas</td>\n",
       "      <td>100.00</td>\n",
       "      <td>83.49</td>\n",
       "      <td>100.00</td>\n",
       "      <td>100.00</td>\n",
       "      <td>92.32</td>\n",
       "      <td>475.81</td>\n",
       "    </tr>\n",
       "    <tr>\n",
       "      <th>9</th>\n",
       "      <td>Tiny</td>\n",
       "      <td>Jack</td>\n",
       "      <td>94.35</td>\n",
       "      <td>33.09</td>\n",
       "      <td>82.57</td>\n",
       "      <td>31.13</td>\n",
       "      <td>100.00</td>\n",
       "      <td>341.14</td>\n",
       "    </tr>\n",
       "    <tr>\n",
       "      <th>10</th>\n",
       "      <td>Carlton</td>\n",
       "      <td>Elms</td>\n",
       "      <td>100.00</td>\n",
       "      <td>36.52</td>\n",
       "      <td>5.54</td>\n",
       "      <td>33.82</td>\n",
       "      <td>12.07</td>\n",
       "      <td>187.95</td>\n",
       "    </tr>\n",
       "    <tr>\n",
       "      <th>11</th>\n",
       "      <td>Lauretta</td>\n",
       "      <td>Herbert</td>\n",
       "      <td>50.73</td>\n",
       "      <td>-0.10</td>\n",
       "      <td>67.76</td>\n",
       "      <td>100.00</td>\n",
       "      <td>55.98</td>\n",
       "      <td>274.37</td>\n",
       "    </tr>\n",
       "    <tr>\n",
       "      <th>12</th>\n",
       "      <td>Almeta</td>\n",
       "      <td>Dimond</td>\n",
       "      <td>80.37</td>\n",
       "      <td>100.00</td>\n",
       "      <td>69.02</td>\n",
       "      <td>100.00</td>\n",
       "      <td>79.62</td>\n",
       "      <td>429.01</td>\n",
       "    </tr>\n",
       "    <tr>\n",
       "      <th>13</th>\n",
       "      <td>Phoebe</td>\n",
       "      <td>Schill</td>\n",
       "      <td>100.00</td>\n",
       "      <td>70.37</td>\n",
       "      <td>100.00</td>\n",
       "      <td>47.00</td>\n",
       "      <td>77.37</td>\n",
       "      <td>394.74</td>\n",
       "    </tr>\n",
       "    <tr>\n",
       "      <th>14</th>\n",
       "      <td>Krystyna</td>\n",
       "      <td>Paris</td>\n",
       "      <td>18.75</td>\n",
       "      <td>73.80</td>\n",
       "      <td>87.00</td>\n",
       "      <td>59.30</td>\n",
       "      <td>100.00</td>\n",
       "      <td>338.85</td>\n",
       "    </tr>\n",
       "    <tr>\n",
       "      <th>15</th>\n",
       "      <td>Miyoko</td>\n",
       "      <td>Laffoon</td>\n",
       "      <td>100.00</td>\n",
       "      <td>100.00</td>\n",
       "      <td>100.00</td>\n",
       "      <td>34.98</td>\n",
       "      <td>94.55</td>\n",
       "      <td>429.53</td>\n",
       "    </tr>\n",
       "    <tr>\n",
       "      <th>16</th>\n",
       "      <td>Rebecca</td>\n",
       "      <td>Duck</td>\n",
       "      <td>70.79</td>\n",
       "      <td>97.81</td>\n",
       "      <td>52.25</td>\n",
       "      <td>19.76</td>\n",
       "      <td>-13.93</td>\n",
       "      <td>226.68</td>\n",
       "    </tr>\n",
       "    <tr>\n",
       "      <th>17</th>\n",
       "      <td>Elwanda</td>\n",
       "      <td>Hyland</td>\n",
       "      <td>45.69</td>\n",
       "      <td>74.86</td>\n",
       "      <td>43.10</td>\n",
       "      <td>45.00</td>\n",
       "      <td>76.72</td>\n",
       "      <td>285.37</td>\n",
       "    </tr>\n",
       "    <tr>\n",
       "      <th>18</th>\n",
       "      <td>Gretchen</td>\n",
       "      <td>Kerrick</td>\n",
       "      <td>68.70</td>\n",
       "      <td>75.87</td>\n",
       "      <td>-14.87</td>\n",
       "      <td>57.32</td>\n",
       "      <td>84.28</td>\n",
       "      <td>271.30</td>\n",
       "    </tr>\n",
       "    <tr>\n",
       "      <th>19</th>\n",
       "      <td>Winnifred</td>\n",
       "      <td>Colonna</td>\n",
       "      <td>83.79</td>\n",
       "      <td>100.00</td>\n",
       "      <td>85.66</td>\n",
       "      <td>3.94</td>\n",
       "      <td>100.00</td>\n",
       "      <td>373.39</td>\n",
       "    </tr>\n",
       "    <tr>\n",
       "      <th>20</th>\n",
       "      <td>Gidget</td>\n",
       "      <td>Casseus</td>\n",
       "      <td>100.00</td>\n",
       "      <td>100.00</td>\n",
       "      <td>100.00</td>\n",
       "      <td>99.52</td>\n",
       "      <td>62.59</td>\n",
       "      <td>462.11</td>\n",
       "    </tr>\n",
       "    <tr>\n",
       "      <th>21</th>\n",
       "      <td>Elaina</td>\n",
       "      <td>Mcdougal</td>\n",
       "      <td>100.00</td>\n",
       "      <td>100.00</td>\n",
       "      <td>80.29</td>\n",
       "      <td>100.00</td>\n",
       "      <td>-36.81</td>\n",
       "      <td>343.48</td>\n",
       "    </tr>\n",
       "    <tr>\n",
       "      <th>22</th>\n",
       "      <td>Shoshana</td>\n",
       "      <td>Goldberger</td>\n",
       "      <td>55.10</td>\n",
       "      <td>100.00</td>\n",
       "      <td>100.00</td>\n",
       "      <td>100.00</td>\n",
       "      <td>100.00</td>\n",
       "      <td>455.10</td>\n",
       "    </tr>\n",
       "    <tr>\n",
       "      <th>23</th>\n",
       "      <td>Argentina</td>\n",
       "      <td>Nelson</td>\n",
       "      <td>100.00</td>\n",
       "      <td>100.00</td>\n",
       "      <td>40.44</td>\n",
       "      <td>100.00</td>\n",
       "      <td>100.00</td>\n",
       "      <td>440.44</td>\n",
       "    </tr>\n",
       "    <tr>\n",
       "      <th>24</th>\n",
       "      <td>Lyle</td>\n",
       "      <td>Millsaps</td>\n",
       "      <td>100.00</td>\n",
       "      <td>71.88</td>\n",
       "      <td>100.00</td>\n",
       "      <td>-17.33</td>\n",
       "      <td>100.00</td>\n",
       "      <td>354.55</td>\n",
       "    </tr>\n",
       "    <tr>\n",
       "      <th>25</th>\n",
       "      <td>Janay</td>\n",
       "      <td>Julius</td>\n",
       "      <td>41.70</td>\n",
       "      <td>100.00</td>\n",
       "      <td>55.90</td>\n",
       "      <td>75.53</td>\n",
       "      <td>100.00</td>\n",
       "      <td>373.13</td>\n",
       "    </tr>\n",
       "    <tr>\n",
       "      <th>26</th>\n",
       "      <td>Devorah</td>\n",
       "      <td>Heyden</td>\n",
       "      <td>0.84</td>\n",
       "      <td>18.61</td>\n",
       "      <td>50.14</td>\n",
       "      <td>83.58</td>\n",
       "      <td>65.68</td>\n",
       "      <td>218.85</td>\n",
       "    </tr>\n",
       "    <tr>\n",
       "      <th>27</th>\n",
       "      <td>Thelma</td>\n",
       "      <td>Romberger</td>\n",
       "      <td>72.41</td>\n",
       "      <td>61.00</td>\n",
       "      <td>100.00</td>\n",
       "      <td>76.38</td>\n",
       "      <td>51.37</td>\n",
       "      <td>361.16</td>\n",
       "    </tr>\n",
       "    <tr>\n",
       "      <th>28</th>\n",
       "      <td>Armanda</td>\n",
       "      <td>Hendley</td>\n",
       "      <td>35.40</td>\n",
       "      <td>66.92</td>\n",
       "      <td>69.67</td>\n",
       "      <td>71.08</td>\n",
       "      <td>-2.34</td>\n",
       "      <td>240.73</td>\n",
       "    </tr>\n",
       "    <tr>\n",
       "      <th>29</th>\n",
       "      <td>Raymon</td>\n",
       "      <td>Myerson</td>\n",
       "      <td>49.83</td>\n",
       "      <td>27.36</td>\n",
       "      <td>61.90</td>\n",
       "      <td>72.97</td>\n",
       "      <td>13.11</td>\n",
       "      <td>225.17</td>\n",
       "    </tr>\n",
       "  </tbody>\n",
       "</table>\n",
       "</div>"
      ],
      "text/plain": [
       "   First Name    Last Name  English   Maths  Science  German  Sports  \\\n",
       "0       Robyn      Hobgood    60.95   24.77    20.60   69.32    8.36   \n",
       "1        Eddy    Swearngin   100.00   12.99   100.00   52.24  100.00   \n",
       "2       Leoma     Bridgman    83.37  100.00    78.69  100.00   19.50   \n",
       "3     Arnetta        Peart    87.75  100.00    86.93   87.90   41.73   \n",
       "4    Maryland        Colby   100.00  100.00   100.00   18.87   88.72   \n",
       "5     Sherron      Sherron    92.06   55.91    93.93  -56.74   77.71   \n",
       "6    Glendora  Christopher    78.26  100.00    25.60  100.00  100.00   \n",
       "7     Darlena         Gunn   100.00   64.53   100.00   23.21   79.01   \n",
       "8        Aldo        Armas   100.00   83.49   100.00  100.00   92.32   \n",
       "9        Tiny         Jack    94.35   33.09    82.57   31.13  100.00   \n",
       "10    Carlton         Elms   100.00   36.52     5.54   33.82   12.07   \n",
       "11   Lauretta      Herbert    50.73   -0.10    67.76  100.00   55.98   \n",
       "12     Almeta       Dimond    80.37  100.00    69.02  100.00   79.62   \n",
       "13     Phoebe       Schill   100.00   70.37   100.00   47.00   77.37   \n",
       "14   Krystyna        Paris    18.75   73.80    87.00   59.30  100.00   \n",
       "15     Miyoko      Laffoon   100.00  100.00   100.00   34.98   94.55   \n",
       "16    Rebecca         Duck    70.79   97.81    52.25   19.76  -13.93   \n",
       "17    Elwanda       Hyland    45.69   74.86    43.10   45.00   76.72   \n",
       "18   Gretchen      Kerrick    68.70   75.87   -14.87   57.32   84.28   \n",
       "19  Winnifred      Colonna    83.79  100.00    85.66    3.94  100.00   \n",
       "20     Gidget      Casseus   100.00  100.00   100.00   99.52   62.59   \n",
       "21     Elaina     Mcdougal   100.00  100.00    80.29  100.00  -36.81   \n",
       "22   Shoshana   Goldberger    55.10  100.00   100.00  100.00  100.00   \n",
       "23  Argentina       Nelson   100.00  100.00    40.44  100.00  100.00   \n",
       "24       Lyle     Millsaps   100.00   71.88   100.00  -17.33  100.00   \n",
       "25      Janay       Julius    41.70  100.00    55.90   75.53  100.00   \n",
       "26    Devorah       Heyden     0.84   18.61    50.14   83.58   65.68   \n",
       "27     Thelma    Romberger    72.41   61.00   100.00   76.38   51.37   \n",
       "28    Armanda      Hendley    35.40   66.92    69.67   71.08   -2.34   \n",
       "29     Raymon      Myerson    49.83   27.36    61.90   72.97   13.11   \n",
       "\n",
       "    Final Grade  \n",
       "0        184.00  \n",
       "1        365.23  \n",
       "2        381.56  \n",
       "3        404.31  \n",
       "4        407.59  \n",
       "5        262.87  \n",
       "6        403.86  \n",
       "7        366.75  \n",
       "8        475.81  \n",
       "9        341.14  \n",
       "10       187.95  \n",
       "11       274.37  \n",
       "12       429.01  \n",
       "13       394.74  \n",
       "14       338.85  \n",
       "15       429.53  \n",
       "16       226.68  \n",
       "17       285.37  \n",
       "18       271.30  \n",
       "19       373.39  \n",
       "20       462.11  \n",
       "21       343.48  \n",
       "22       455.10  \n",
       "23       440.44  \n",
       "24       354.55  \n",
       "25       373.13  \n",
       "26       218.85  \n",
       "27       361.16  \n",
       "28       240.73  \n",
       "29       225.17  "
      ]
     },
     "execution_count": 263,
     "metadata": {},
     "output_type": "execute_result"
    }
   ],
   "source": [
    "grades_file = pd.read_csv('Grades.csv')\n",
    "grades_file"
   ]
  },
  {
   "cell_type": "markdown",
   "id": "c5da40f5",
   "metadata": {},
   "source": [
    "Compute the sum for all subjects for each student."
   ]
  },
  {
   "cell_type": "markdown",
   "id": "9f74d0ba",
   "metadata": {},
   "source": [
    "The final grade in the dataframe gives the sum of marks of each student. We will simply display that for sum of all subjects for each student."
   ]
  },
  {
   "cell_type": "code",
   "execution_count": 264,
   "id": "d024007f",
   "metadata": {},
   "outputs": [
    {
     "data": {
      "text/html": [
       "<div>\n",
       "<style scoped>\n",
       "    .dataframe tbody tr th:only-of-type {\n",
       "        vertical-align: middle;\n",
       "    }\n",
       "\n",
       "    .dataframe tbody tr th {\n",
       "        vertical-align: top;\n",
       "    }\n",
       "\n",
       "    .dataframe thead th {\n",
       "        text-align: right;\n",
       "    }\n",
       "</style>\n",
       "<table border=\"1\" class=\"dataframe\">\n",
       "  <thead>\n",
       "    <tr style=\"text-align: right;\">\n",
       "      <th></th>\n",
       "      <th>First Name</th>\n",
       "      <th>Last Name</th>\n",
       "      <th>Final Grade</th>\n",
       "    </tr>\n",
       "  </thead>\n",
       "  <tbody>\n",
       "    <tr>\n",
       "      <th>0</th>\n",
       "      <td>Robyn</td>\n",
       "      <td>Hobgood</td>\n",
       "      <td>184.00</td>\n",
       "    </tr>\n",
       "    <tr>\n",
       "      <th>1</th>\n",
       "      <td>Eddy</td>\n",
       "      <td>Swearngin</td>\n",
       "      <td>365.23</td>\n",
       "    </tr>\n",
       "    <tr>\n",
       "      <th>2</th>\n",
       "      <td>Leoma</td>\n",
       "      <td>Bridgman</td>\n",
       "      <td>381.56</td>\n",
       "    </tr>\n",
       "    <tr>\n",
       "      <th>3</th>\n",
       "      <td>Arnetta</td>\n",
       "      <td>Peart</td>\n",
       "      <td>404.31</td>\n",
       "    </tr>\n",
       "    <tr>\n",
       "      <th>4</th>\n",
       "      <td>Maryland</td>\n",
       "      <td>Colby</td>\n",
       "      <td>407.59</td>\n",
       "    </tr>\n",
       "    <tr>\n",
       "      <th>5</th>\n",
       "      <td>Sherron</td>\n",
       "      <td>Sherron</td>\n",
       "      <td>262.87</td>\n",
       "    </tr>\n",
       "    <tr>\n",
       "      <th>6</th>\n",
       "      <td>Glendora</td>\n",
       "      <td>Christopher</td>\n",
       "      <td>403.86</td>\n",
       "    </tr>\n",
       "    <tr>\n",
       "      <th>7</th>\n",
       "      <td>Darlena</td>\n",
       "      <td>Gunn</td>\n",
       "      <td>366.75</td>\n",
       "    </tr>\n",
       "    <tr>\n",
       "      <th>8</th>\n",
       "      <td>Aldo</td>\n",
       "      <td>Armas</td>\n",
       "      <td>475.81</td>\n",
       "    </tr>\n",
       "    <tr>\n",
       "      <th>9</th>\n",
       "      <td>Tiny</td>\n",
       "      <td>Jack</td>\n",
       "      <td>341.14</td>\n",
       "    </tr>\n",
       "    <tr>\n",
       "      <th>10</th>\n",
       "      <td>Carlton</td>\n",
       "      <td>Elms</td>\n",
       "      <td>187.95</td>\n",
       "    </tr>\n",
       "    <tr>\n",
       "      <th>11</th>\n",
       "      <td>Lauretta</td>\n",
       "      <td>Herbert</td>\n",
       "      <td>274.37</td>\n",
       "    </tr>\n",
       "    <tr>\n",
       "      <th>12</th>\n",
       "      <td>Almeta</td>\n",
       "      <td>Dimond</td>\n",
       "      <td>429.01</td>\n",
       "    </tr>\n",
       "    <tr>\n",
       "      <th>13</th>\n",
       "      <td>Phoebe</td>\n",
       "      <td>Schill</td>\n",
       "      <td>394.74</td>\n",
       "    </tr>\n",
       "    <tr>\n",
       "      <th>14</th>\n",
       "      <td>Krystyna</td>\n",
       "      <td>Paris</td>\n",
       "      <td>338.85</td>\n",
       "    </tr>\n",
       "    <tr>\n",
       "      <th>15</th>\n",
       "      <td>Miyoko</td>\n",
       "      <td>Laffoon</td>\n",
       "      <td>429.53</td>\n",
       "    </tr>\n",
       "    <tr>\n",
       "      <th>16</th>\n",
       "      <td>Rebecca</td>\n",
       "      <td>Duck</td>\n",
       "      <td>226.68</td>\n",
       "    </tr>\n",
       "    <tr>\n",
       "      <th>17</th>\n",
       "      <td>Elwanda</td>\n",
       "      <td>Hyland</td>\n",
       "      <td>285.37</td>\n",
       "    </tr>\n",
       "    <tr>\n",
       "      <th>18</th>\n",
       "      <td>Gretchen</td>\n",
       "      <td>Kerrick</td>\n",
       "      <td>271.30</td>\n",
       "    </tr>\n",
       "    <tr>\n",
       "      <th>19</th>\n",
       "      <td>Winnifred</td>\n",
       "      <td>Colonna</td>\n",
       "      <td>373.39</td>\n",
       "    </tr>\n",
       "    <tr>\n",
       "      <th>20</th>\n",
       "      <td>Gidget</td>\n",
       "      <td>Casseus</td>\n",
       "      <td>462.11</td>\n",
       "    </tr>\n",
       "    <tr>\n",
       "      <th>21</th>\n",
       "      <td>Elaina</td>\n",
       "      <td>Mcdougal</td>\n",
       "      <td>343.48</td>\n",
       "    </tr>\n",
       "    <tr>\n",
       "      <th>22</th>\n",
       "      <td>Shoshana</td>\n",
       "      <td>Goldberger</td>\n",
       "      <td>455.10</td>\n",
       "    </tr>\n",
       "    <tr>\n",
       "      <th>23</th>\n",
       "      <td>Argentina</td>\n",
       "      <td>Nelson</td>\n",
       "      <td>440.44</td>\n",
       "    </tr>\n",
       "    <tr>\n",
       "      <th>24</th>\n",
       "      <td>Lyle</td>\n",
       "      <td>Millsaps</td>\n",
       "      <td>354.55</td>\n",
       "    </tr>\n",
       "    <tr>\n",
       "      <th>25</th>\n",
       "      <td>Janay</td>\n",
       "      <td>Julius</td>\n",
       "      <td>373.13</td>\n",
       "    </tr>\n",
       "    <tr>\n",
       "      <th>26</th>\n",
       "      <td>Devorah</td>\n",
       "      <td>Heyden</td>\n",
       "      <td>218.85</td>\n",
       "    </tr>\n",
       "    <tr>\n",
       "      <th>27</th>\n",
       "      <td>Thelma</td>\n",
       "      <td>Romberger</td>\n",
       "      <td>361.16</td>\n",
       "    </tr>\n",
       "    <tr>\n",
       "      <th>28</th>\n",
       "      <td>Armanda</td>\n",
       "      <td>Hendley</td>\n",
       "      <td>240.73</td>\n",
       "    </tr>\n",
       "    <tr>\n",
       "      <th>29</th>\n",
       "      <td>Raymon</td>\n",
       "      <td>Myerson</td>\n",
       "      <td>225.17</td>\n",
       "    </tr>\n",
       "  </tbody>\n",
       "</table>\n",
       "</div>"
      ],
      "text/plain": [
       "   First Name    Last Name  Final Grade\n",
       "0       Robyn      Hobgood       184.00\n",
       "1        Eddy    Swearngin       365.23\n",
       "2       Leoma     Bridgman       381.56\n",
       "3     Arnetta        Peart       404.31\n",
       "4    Maryland        Colby       407.59\n",
       "5     Sherron      Sherron       262.87\n",
       "6    Glendora  Christopher       403.86\n",
       "7     Darlena         Gunn       366.75\n",
       "8        Aldo        Armas       475.81\n",
       "9        Tiny         Jack       341.14\n",
       "10    Carlton         Elms       187.95\n",
       "11   Lauretta      Herbert       274.37\n",
       "12     Almeta       Dimond       429.01\n",
       "13     Phoebe       Schill       394.74\n",
       "14   Krystyna        Paris       338.85\n",
       "15     Miyoko      Laffoon       429.53\n",
       "16    Rebecca         Duck       226.68\n",
       "17    Elwanda       Hyland       285.37\n",
       "18   Gretchen      Kerrick       271.30\n",
       "19  Winnifred      Colonna       373.39\n",
       "20     Gidget      Casseus       462.11\n",
       "21     Elaina     Mcdougal       343.48\n",
       "22   Shoshana   Goldberger       455.10\n",
       "23  Argentina       Nelson       440.44\n",
       "24       Lyle     Millsaps       354.55\n",
       "25      Janay       Julius       373.13\n",
       "26    Devorah       Heyden       218.85\n",
       "27     Thelma    Romberger       361.16\n",
       "28    Armanda      Hendley       240.73\n",
       "29     Raymon      Myerson       225.17"
      ]
     },
     "execution_count": 264,
     "metadata": {},
     "output_type": "execute_result"
    }
   ],
   "source": [
    "sum_marks = grades_file.iloc[:, [0, 1, -1]]\n",
    "sum_marks"
   ]
  },
  {
   "cell_type": "markdown",
   "id": "356d46d7",
   "metadata": {},
   "source": [
    "Compute the average of the point for each student."
   ]
  },
  {
   "cell_type": "markdown",
   "id": "f3095fd9",
   "metadata": {},
   "source": [
    "Average of marks of each student is the total marks divided by the total number of subjects."
   ]
  },
  {
   "cell_type": "code",
   "execution_count": 265,
   "id": "f3105f7c",
   "metadata": {},
   "outputs": [
    {
     "data": {
      "text/html": [
       "<div>\n",
       "<style scoped>\n",
       "    .dataframe tbody tr th:only-of-type {\n",
       "        vertical-align: middle;\n",
       "    }\n",
       "\n",
       "    .dataframe tbody tr th {\n",
       "        vertical-align: top;\n",
       "    }\n",
       "\n",
       "    .dataframe thead th {\n",
       "        text-align: right;\n",
       "    }\n",
       "</style>\n",
       "<table border=\"1\" class=\"dataframe\">\n",
       "  <thead>\n",
       "    <tr style=\"text-align: right;\">\n",
       "      <th></th>\n",
       "      <th>First Name</th>\n",
       "      <th>Last Name</th>\n",
       "      <th>average marks</th>\n",
       "    </tr>\n",
       "  </thead>\n",
       "  <tbody>\n",
       "    <tr>\n",
       "      <th>0</th>\n",
       "      <td>Robyn</td>\n",
       "      <td>Hobgood</td>\n",
       "      <td>36.800</td>\n",
       "    </tr>\n",
       "    <tr>\n",
       "      <th>1</th>\n",
       "      <td>Eddy</td>\n",
       "      <td>Swearngin</td>\n",
       "      <td>73.046</td>\n",
       "    </tr>\n",
       "    <tr>\n",
       "      <th>2</th>\n",
       "      <td>Leoma</td>\n",
       "      <td>Bridgman</td>\n",
       "      <td>76.312</td>\n",
       "    </tr>\n",
       "    <tr>\n",
       "      <th>3</th>\n",
       "      <td>Arnetta</td>\n",
       "      <td>Peart</td>\n",
       "      <td>80.862</td>\n",
       "    </tr>\n",
       "    <tr>\n",
       "      <th>4</th>\n",
       "      <td>Maryland</td>\n",
       "      <td>Colby</td>\n",
       "      <td>81.518</td>\n",
       "    </tr>\n",
       "    <tr>\n",
       "      <th>5</th>\n",
       "      <td>Sherron</td>\n",
       "      <td>Sherron</td>\n",
       "      <td>52.574</td>\n",
       "    </tr>\n",
       "    <tr>\n",
       "      <th>6</th>\n",
       "      <td>Glendora</td>\n",
       "      <td>Christopher</td>\n",
       "      <td>80.772</td>\n",
       "    </tr>\n",
       "    <tr>\n",
       "      <th>7</th>\n",
       "      <td>Darlena</td>\n",
       "      <td>Gunn</td>\n",
       "      <td>73.350</td>\n",
       "    </tr>\n",
       "    <tr>\n",
       "      <th>8</th>\n",
       "      <td>Aldo</td>\n",
       "      <td>Armas</td>\n",
       "      <td>95.162</td>\n",
       "    </tr>\n",
       "    <tr>\n",
       "      <th>9</th>\n",
       "      <td>Tiny</td>\n",
       "      <td>Jack</td>\n",
       "      <td>68.228</td>\n",
       "    </tr>\n",
       "    <tr>\n",
       "      <th>10</th>\n",
       "      <td>Carlton</td>\n",
       "      <td>Elms</td>\n",
       "      <td>37.590</td>\n",
       "    </tr>\n",
       "    <tr>\n",
       "      <th>11</th>\n",
       "      <td>Lauretta</td>\n",
       "      <td>Herbert</td>\n",
       "      <td>54.874</td>\n",
       "    </tr>\n",
       "    <tr>\n",
       "      <th>12</th>\n",
       "      <td>Almeta</td>\n",
       "      <td>Dimond</td>\n",
       "      <td>85.802</td>\n",
       "    </tr>\n",
       "    <tr>\n",
       "      <th>13</th>\n",
       "      <td>Phoebe</td>\n",
       "      <td>Schill</td>\n",
       "      <td>78.948</td>\n",
       "    </tr>\n",
       "    <tr>\n",
       "      <th>14</th>\n",
       "      <td>Krystyna</td>\n",
       "      <td>Paris</td>\n",
       "      <td>67.770</td>\n",
       "    </tr>\n",
       "    <tr>\n",
       "      <th>15</th>\n",
       "      <td>Miyoko</td>\n",
       "      <td>Laffoon</td>\n",
       "      <td>85.906</td>\n",
       "    </tr>\n",
       "    <tr>\n",
       "      <th>16</th>\n",
       "      <td>Rebecca</td>\n",
       "      <td>Duck</td>\n",
       "      <td>45.336</td>\n",
       "    </tr>\n",
       "    <tr>\n",
       "      <th>17</th>\n",
       "      <td>Elwanda</td>\n",
       "      <td>Hyland</td>\n",
       "      <td>57.074</td>\n",
       "    </tr>\n",
       "    <tr>\n",
       "      <th>18</th>\n",
       "      <td>Gretchen</td>\n",
       "      <td>Kerrick</td>\n",
       "      <td>54.260</td>\n",
       "    </tr>\n",
       "    <tr>\n",
       "      <th>19</th>\n",
       "      <td>Winnifred</td>\n",
       "      <td>Colonna</td>\n",
       "      <td>74.678</td>\n",
       "    </tr>\n",
       "    <tr>\n",
       "      <th>20</th>\n",
       "      <td>Gidget</td>\n",
       "      <td>Casseus</td>\n",
       "      <td>92.422</td>\n",
       "    </tr>\n",
       "    <tr>\n",
       "      <th>21</th>\n",
       "      <td>Elaina</td>\n",
       "      <td>Mcdougal</td>\n",
       "      <td>68.696</td>\n",
       "    </tr>\n",
       "    <tr>\n",
       "      <th>22</th>\n",
       "      <td>Shoshana</td>\n",
       "      <td>Goldberger</td>\n",
       "      <td>91.020</td>\n",
       "    </tr>\n",
       "    <tr>\n",
       "      <th>23</th>\n",
       "      <td>Argentina</td>\n",
       "      <td>Nelson</td>\n",
       "      <td>88.088</td>\n",
       "    </tr>\n",
       "    <tr>\n",
       "      <th>24</th>\n",
       "      <td>Lyle</td>\n",
       "      <td>Millsaps</td>\n",
       "      <td>70.910</td>\n",
       "    </tr>\n",
       "    <tr>\n",
       "      <th>25</th>\n",
       "      <td>Janay</td>\n",
       "      <td>Julius</td>\n",
       "      <td>74.626</td>\n",
       "    </tr>\n",
       "    <tr>\n",
       "      <th>26</th>\n",
       "      <td>Devorah</td>\n",
       "      <td>Heyden</td>\n",
       "      <td>43.770</td>\n",
       "    </tr>\n",
       "    <tr>\n",
       "      <th>27</th>\n",
       "      <td>Thelma</td>\n",
       "      <td>Romberger</td>\n",
       "      <td>72.232</td>\n",
       "    </tr>\n",
       "    <tr>\n",
       "      <th>28</th>\n",
       "      <td>Armanda</td>\n",
       "      <td>Hendley</td>\n",
       "      <td>48.146</td>\n",
       "    </tr>\n",
       "    <tr>\n",
       "      <th>29</th>\n",
       "      <td>Raymon</td>\n",
       "      <td>Myerson</td>\n",
       "      <td>45.034</td>\n",
       "    </tr>\n",
       "  </tbody>\n",
       "</table>\n",
       "</div>"
      ],
      "text/plain": [
       "   First Name    Last Name  average marks\n",
       "0       Robyn      Hobgood         36.800\n",
       "1        Eddy    Swearngin         73.046\n",
       "2       Leoma     Bridgman         76.312\n",
       "3     Arnetta        Peart         80.862\n",
       "4    Maryland        Colby         81.518\n",
       "5     Sherron      Sherron         52.574\n",
       "6    Glendora  Christopher         80.772\n",
       "7     Darlena         Gunn         73.350\n",
       "8        Aldo        Armas         95.162\n",
       "9        Tiny         Jack         68.228\n",
       "10    Carlton         Elms         37.590\n",
       "11   Lauretta      Herbert         54.874\n",
       "12     Almeta       Dimond         85.802\n",
       "13     Phoebe       Schill         78.948\n",
       "14   Krystyna        Paris         67.770\n",
       "15     Miyoko      Laffoon         85.906\n",
       "16    Rebecca         Duck         45.336\n",
       "17    Elwanda       Hyland         57.074\n",
       "18   Gretchen      Kerrick         54.260\n",
       "19  Winnifred      Colonna         74.678\n",
       "20     Gidget      Casseus         92.422\n",
       "21     Elaina     Mcdougal         68.696\n",
       "22   Shoshana   Goldberger         91.020\n",
       "23  Argentina       Nelson         88.088\n",
       "24       Lyle     Millsaps         70.910\n",
       "25      Janay       Julius         74.626\n",
       "26    Devorah       Heyden         43.770\n",
       "27     Thelma    Romberger         72.232\n",
       "28    Armanda      Hendley         48.146\n",
       "29     Raymon      Myerson         45.034"
      ]
     },
     "execution_count": 265,
     "metadata": {},
     "output_type": "execute_result"
    }
   ],
   "source": [
    "grades_file['average marks'] = grades_file['Final Grade']/5\n",
    "grades_file.loc[:, ['First Name', 'Last Name', 'average marks']]"
   ]
  },
  {
   "cell_type": "markdown",
   "id": "c0621607",
   "metadata": {},
   "source": [
    "Compute the standard deviation of point for each student."
   ]
  },
  {
   "cell_type": "code",
   "execution_count": 270,
   "id": "710f8cd9",
   "metadata": {},
   "outputs": [
    {
     "name": "stderr",
     "output_type": "stream",
     "text": [
      "C:\\Users\\simra\\AppData\\Local\\Temp/ipykernel_5432/2809124357.py:7: SettingWithCopyWarning: \n",
      "A value is trying to be set on a copy of a slice from a DataFrame\n",
      "\n",
      "See the caveats in the documentation: https://pandas.pydata.org/pandas-docs/stable/user_guide/indexing.html#returning-a-view-versus-a-copy\n",
      "  grades_file['Standard deviation'][idx] = std                    # from the mean of the entire class\n"
     ]
    },
    {
     "data": {
      "text/html": [
       "<div>\n",
       "<style scoped>\n",
       "    .dataframe tbody tr th:only-of-type {\n",
       "        vertical-align: middle;\n",
       "    }\n",
       "\n",
       "    .dataframe tbody tr th {\n",
       "        vertical-align: top;\n",
       "    }\n",
       "\n",
       "    .dataframe thead th {\n",
       "        text-align: right;\n",
       "    }\n",
       "</style>\n",
       "<table border=\"1\" class=\"dataframe\">\n",
       "  <thead>\n",
       "    <tr style=\"text-align: right;\">\n",
       "      <th></th>\n",
       "      <th>First Name</th>\n",
       "      <th>Last Name</th>\n",
       "      <th>English</th>\n",
       "      <th>Maths</th>\n",
       "      <th>Science</th>\n",
       "      <th>German</th>\n",
       "      <th>Sports</th>\n",
       "      <th>Final Grade</th>\n",
       "      <th>average marks</th>\n",
       "      <th>Standard deviation</th>\n",
       "    </tr>\n",
       "  </thead>\n",
       "  <tbody>\n",
       "    <tr>\n",
       "      <th>0</th>\n",
       "      <td>Robyn</td>\n",
       "      <td>Hobgood</td>\n",
       "      <td>60.95</td>\n",
       "      <td>24.77</td>\n",
       "      <td>20.60</td>\n",
       "      <td>69.32</td>\n",
       "      <td>8.36</td>\n",
       "      <td>184.00</td>\n",
       "      <td>36.800</td>\n",
       "      <td>5.792507</td>\n",
       "    </tr>\n",
       "    <tr>\n",
       "      <th>1</th>\n",
       "      <td>Eddy</td>\n",
       "      <td>Swearngin</td>\n",
       "      <td>100.00</td>\n",
       "      <td>12.99</td>\n",
       "      <td>100.00</td>\n",
       "      <td>52.24</td>\n",
       "      <td>100.00</td>\n",
       "      <td>365.23</td>\n",
       "      <td>73.046</td>\n",
       "      <td>0.825077</td>\n",
       "    </tr>\n",
       "    <tr>\n",
       "      <th>2</th>\n",
       "      <td>Leoma</td>\n",
       "      <td>Bridgman</td>\n",
       "      <td>83.37</td>\n",
       "      <td>100.00</td>\n",
       "      <td>78.69</td>\n",
       "      <td>100.00</td>\n",
       "      <td>19.50</td>\n",
       "      <td>381.56</td>\n",
       "      <td>76.312</td>\n",
       "      <td>1.421364</td>\n",
       "    </tr>\n",
       "    <tr>\n",
       "      <th>3</th>\n",
       "      <td>Arnetta</td>\n",
       "      <td>Peart</td>\n",
       "      <td>87.75</td>\n",
       "      <td>100.00</td>\n",
       "      <td>86.93</td>\n",
       "      <td>87.90</td>\n",
       "      <td>41.73</td>\n",
       "      <td>404.31</td>\n",
       "      <td>80.862</td>\n",
       "      <td>2.252077</td>\n",
       "    </tr>\n",
       "    <tr>\n",
       "      <th>4</th>\n",
       "      <td>Maryland</td>\n",
       "      <td>Colby</td>\n",
       "      <td>100.00</td>\n",
       "      <td>100.00</td>\n",
       "      <td>100.00</td>\n",
       "      <td>18.87</td>\n",
       "      <td>88.72</td>\n",
       "      <td>407.59</td>\n",
       "      <td>81.518</td>\n",
       "      <td>2.371846</td>\n",
       "    </tr>\n",
       "    <tr>\n",
       "      <th>5</th>\n",
       "      <td>Sherron</td>\n",
       "      <td>Sherron</td>\n",
       "      <td>92.06</td>\n",
       "      <td>55.91</td>\n",
       "      <td>93.93</td>\n",
       "      <td>-56.74</td>\n",
       "      <td>77.71</td>\n",
       "      <td>262.87</td>\n",
       "      <td>52.574</td>\n",
       "      <td>2.912582</td>\n",
       "    </tr>\n",
       "    <tr>\n",
       "      <th>6</th>\n",
       "      <td>Glendora</td>\n",
       "      <td>Christopher</td>\n",
       "      <td>78.26</td>\n",
       "      <td>100.00</td>\n",
       "      <td>25.60</td>\n",
       "      <td>100.00</td>\n",
       "      <td>100.00</td>\n",
       "      <td>403.86</td>\n",
       "      <td>80.772</td>\n",
       "      <td>2.235645</td>\n",
       "    </tr>\n",
       "    <tr>\n",
       "      <th>7</th>\n",
       "      <td>Darlena</td>\n",
       "      <td>Gunn</td>\n",
       "      <td>100.00</td>\n",
       "      <td>64.53</td>\n",
       "      <td>100.00</td>\n",
       "      <td>23.21</td>\n",
       "      <td>79.01</td>\n",
       "      <td>366.75</td>\n",
       "      <td>73.350</td>\n",
       "      <td>0.880580</td>\n",
       "    </tr>\n",
       "    <tr>\n",
       "      <th>8</th>\n",
       "      <td>Aldo</td>\n",
       "      <td>Armas</td>\n",
       "      <td>100.00</td>\n",
       "      <td>83.49</td>\n",
       "      <td>100.00</td>\n",
       "      <td>100.00</td>\n",
       "      <td>92.32</td>\n",
       "      <td>475.81</td>\n",
       "      <td>95.162</td>\n",
       "      <td>4.862888</td>\n",
       "    </tr>\n",
       "    <tr>\n",
       "      <th>9</th>\n",
       "      <td>Tiny</td>\n",
       "      <td>Jack</td>\n",
       "      <td>94.35</td>\n",
       "      <td>33.09</td>\n",
       "      <td>82.57</td>\n",
       "      <td>31.13</td>\n",
       "      <td>100.00</td>\n",
       "      <td>341.14</td>\n",
       "      <td>68.228</td>\n",
       "      <td>0.054565</td>\n",
       "    </tr>\n",
       "    <tr>\n",
       "      <th>10</th>\n",
       "      <td>Carlton</td>\n",
       "      <td>Elms</td>\n",
       "      <td>100.00</td>\n",
       "      <td>36.52</td>\n",
       "      <td>5.54</td>\n",
       "      <td>33.82</td>\n",
       "      <td>12.07</td>\n",
       "      <td>187.95</td>\n",
       "      <td>37.590</td>\n",
       "      <td>5.648273</td>\n",
       "    </tr>\n",
       "    <tr>\n",
       "      <th>11</th>\n",
       "      <td>Lauretta</td>\n",
       "      <td>Herbert</td>\n",
       "      <td>50.73</td>\n",
       "      <td>-0.10</td>\n",
       "      <td>67.76</td>\n",
       "      <td>100.00</td>\n",
       "      <td>55.98</td>\n",
       "      <td>274.37</td>\n",
       "      <td>54.874</td>\n",
       "      <td>2.492661</td>\n",
       "    </tr>\n",
       "    <tr>\n",
       "      <th>12</th>\n",
       "      <td>Almeta</td>\n",
       "      <td>Dimond</td>\n",
       "      <td>80.37</td>\n",
       "      <td>100.00</td>\n",
       "      <td>69.02</td>\n",
       "      <td>100.00</td>\n",
       "      <td>79.62</td>\n",
       "      <td>429.01</td>\n",
       "      <td>85.802</td>\n",
       "      <td>3.153993</td>\n",
       "    </tr>\n",
       "    <tr>\n",
       "      <th>13</th>\n",
       "      <td>Phoebe</td>\n",
       "      <td>Schill</td>\n",
       "      <td>100.00</td>\n",
       "      <td>70.37</td>\n",
       "      <td>100.00</td>\n",
       "      <td>47.00</td>\n",
       "      <td>77.37</td>\n",
       "      <td>394.74</td>\n",
       "      <td>78.948</td>\n",
       "      <td>1.902630</td>\n",
       "    </tr>\n",
       "    <tr>\n",
       "      <th>14</th>\n",
       "      <td>Krystyna</td>\n",
       "      <td>Paris</td>\n",
       "      <td>18.75</td>\n",
       "      <td>73.80</td>\n",
       "      <td>87.00</td>\n",
       "      <td>59.30</td>\n",
       "      <td>100.00</td>\n",
       "      <td>338.85</td>\n",
       "      <td>67.770</td>\n",
       "      <td>0.138184</td>\n",
       "    </tr>\n",
       "    <tr>\n",
       "      <th>15</th>\n",
       "      <td>Miyoko</td>\n",
       "      <td>Laffoon</td>\n",
       "      <td>100.00</td>\n",
       "      <td>100.00</td>\n",
       "      <td>100.00</td>\n",
       "      <td>34.98</td>\n",
       "      <td>94.55</td>\n",
       "      <td>429.53</td>\n",
       "      <td>85.906</td>\n",
       "      <td>3.172981</td>\n",
       "    </tr>\n",
       "    <tr>\n",
       "      <th>16</th>\n",
       "      <td>Rebecca</td>\n",
       "      <td>Duck</td>\n",
       "      <td>70.79</td>\n",
       "      <td>97.81</td>\n",
       "      <td>52.25</td>\n",
       "      <td>19.76</td>\n",
       "      <td>-13.93</td>\n",
       "      <td>226.68</td>\n",
       "      <td>45.336</td>\n",
       "      <td>4.234054</td>\n",
       "    </tr>\n",
       "    <tr>\n",
       "      <th>17</th>\n",
       "      <td>Elwanda</td>\n",
       "      <td>Hyland</td>\n",
       "      <td>45.69</td>\n",
       "      <td>74.86</td>\n",
       "      <td>43.10</td>\n",
       "      <td>45.00</td>\n",
       "      <td>76.72</td>\n",
       "      <td>285.37</td>\n",
       "      <td>57.074</td>\n",
       "      <td>2.090998</td>\n",
       "    </tr>\n",
       "    <tr>\n",
       "      <th>18</th>\n",
       "      <td>Gretchen</td>\n",
       "      <td>Kerrick</td>\n",
       "      <td>68.70</td>\n",
       "      <td>75.87</td>\n",
       "      <td>-14.87</td>\n",
       "      <td>57.32</td>\n",
       "      <td>84.28</td>\n",
       "      <td>271.30</td>\n",
       "      <td>54.260</td>\n",
       "      <td>2.604762</td>\n",
       "    </tr>\n",
       "    <tr>\n",
       "      <th>19</th>\n",
       "      <td>Winnifred</td>\n",
       "      <td>Colonna</td>\n",
       "      <td>83.79</td>\n",
       "      <td>100.00</td>\n",
       "      <td>85.66</td>\n",
       "      <td>3.94</td>\n",
       "      <td>100.00</td>\n",
       "      <td>373.39</td>\n",
       "      <td>74.678</td>\n",
       "      <td>1.123038</td>\n",
       "    </tr>\n",
       "    <tr>\n",
       "      <th>20</th>\n",
       "      <td>Gidget</td>\n",
       "      <td>Casseus</td>\n",
       "      <td>100.00</td>\n",
       "      <td>100.00</td>\n",
       "      <td>100.00</td>\n",
       "      <td>99.52</td>\n",
       "      <td>62.59</td>\n",
       "      <td>462.11</td>\n",
       "      <td>92.422</td>\n",
       "      <td>4.362635</td>\n",
       "    </tr>\n",
       "    <tr>\n",
       "      <th>21</th>\n",
       "      <td>Elaina</td>\n",
       "      <td>Mcdougal</td>\n",
       "      <td>100.00</td>\n",
       "      <td>100.00</td>\n",
       "      <td>80.29</td>\n",
       "      <td>100.00</td>\n",
       "      <td>-36.81</td>\n",
       "      <td>343.48</td>\n",
       "      <td>68.696</td>\n",
       "      <td>0.030879</td>\n",
       "    </tr>\n",
       "    <tr>\n",
       "      <th>22</th>\n",
       "      <td>Shoshana</td>\n",
       "      <td>Goldberger</td>\n",
       "      <td>55.10</td>\n",
       "      <td>100.00</td>\n",
       "      <td>100.00</td>\n",
       "      <td>100.00</td>\n",
       "      <td>100.00</td>\n",
       "      <td>455.10</td>\n",
       "      <td>91.020</td>\n",
       "      <td>4.106666</td>\n",
       "    </tr>\n",
       "    <tr>\n",
       "      <th>23</th>\n",
       "      <td>Argentina</td>\n",
       "      <td>Nelson</td>\n",
       "      <td>100.00</td>\n",
       "      <td>100.00</td>\n",
       "      <td>40.44</td>\n",
       "      <td>100.00</td>\n",
       "      <td>100.00</td>\n",
       "      <td>440.44</td>\n",
       "      <td>88.088</td>\n",
       "      <td>3.571358</td>\n",
       "    </tr>\n",
       "    <tr>\n",
       "      <th>24</th>\n",
       "      <td>Lyle</td>\n",
       "      <td>Millsaps</td>\n",
       "      <td>100.00</td>\n",
       "      <td>71.88</td>\n",
       "      <td>100.00</td>\n",
       "      <td>-17.33</td>\n",
       "      <td>100.00</td>\n",
       "      <td>354.55</td>\n",
       "      <td>70.910</td>\n",
       "      <td>0.435099</td>\n",
       "    </tr>\n",
       "    <tr>\n",
       "      <th>25</th>\n",
       "      <td>Janay</td>\n",
       "      <td>Julius</td>\n",
       "      <td>41.70</td>\n",
       "      <td>100.00</td>\n",
       "      <td>55.90</td>\n",
       "      <td>75.53</td>\n",
       "      <td>100.00</td>\n",
       "      <td>373.13</td>\n",
       "      <td>74.626</td>\n",
       "      <td>1.113544</td>\n",
       "    </tr>\n",
       "    <tr>\n",
       "      <th>26</th>\n",
       "      <td>Devorah</td>\n",
       "      <td>Heyden</td>\n",
       "      <td>0.84</td>\n",
       "      <td>18.61</td>\n",
       "      <td>50.14</td>\n",
       "      <td>83.58</td>\n",
       "      <td>65.68</td>\n",
       "      <td>218.85</td>\n",
       "      <td>43.770</td>\n",
       "      <td>4.519965</td>\n",
       "    </tr>\n",
       "    <tr>\n",
       "      <th>27</th>\n",
       "      <td>Thelma</td>\n",
       "      <td>Romberger</td>\n",
       "      <td>72.41</td>\n",
       "      <td>61.00</td>\n",
       "      <td>100.00</td>\n",
       "      <td>76.38</td>\n",
       "      <td>51.37</td>\n",
       "      <td>361.16</td>\n",
       "      <td>72.232</td>\n",
       "      <td>0.676462</td>\n",
       "    </tr>\n",
       "    <tr>\n",
       "      <th>28</th>\n",
       "      <td>Armanda</td>\n",
       "      <td>Hendley</td>\n",
       "      <td>35.40</td>\n",
       "      <td>66.92</td>\n",
       "      <td>69.67</td>\n",
       "      <td>71.08</td>\n",
       "      <td>-2.34</td>\n",
       "      <td>240.73</td>\n",
       "      <td>48.146</td>\n",
       "      <td>3.721020</td>\n",
       "    </tr>\n",
       "    <tr>\n",
       "      <th>29</th>\n",
       "      <td>Raymon</td>\n",
       "      <td>Myerson</td>\n",
       "      <td>49.83</td>\n",
       "      <td>27.36</td>\n",
       "      <td>61.90</td>\n",
       "      <td>72.97</td>\n",
       "      <td>13.11</td>\n",
       "      <td>225.17</td>\n",
       "      <td>45.034</td>\n",
       "      <td>4.289191</td>\n",
       "    </tr>\n",
       "  </tbody>\n",
       "</table>\n",
       "</div>"
      ],
      "text/plain": [
       "   First Name    Last Name  English   Maths  Science  German  Sports  \\\n",
       "0       Robyn      Hobgood    60.95   24.77    20.60   69.32    8.36   \n",
       "1        Eddy    Swearngin   100.00   12.99   100.00   52.24  100.00   \n",
       "2       Leoma     Bridgman    83.37  100.00    78.69  100.00   19.50   \n",
       "3     Arnetta        Peart    87.75  100.00    86.93   87.90   41.73   \n",
       "4    Maryland        Colby   100.00  100.00   100.00   18.87   88.72   \n",
       "5     Sherron      Sherron    92.06   55.91    93.93  -56.74   77.71   \n",
       "6    Glendora  Christopher    78.26  100.00    25.60  100.00  100.00   \n",
       "7     Darlena         Gunn   100.00   64.53   100.00   23.21   79.01   \n",
       "8        Aldo        Armas   100.00   83.49   100.00  100.00   92.32   \n",
       "9        Tiny         Jack    94.35   33.09    82.57   31.13  100.00   \n",
       "10    Carlton         Elms   100.00   36.52     5.54   33.82   12.07   \n",
       "11   Lauretta      Herbert    50.73   -0.10    67.76  100.00   55.98   \n",
       "12     Almeta       Dimond    80.37  100.00    69.02  100.00   79.62   \n",
       "13     Phoebe       Schill   100.00   70.37   100.00   47.00   77.37   \n",
       "14   Krystyna        Paris    18.75   73.80    87.00   59.30  100.00   \n",
       "15     Miyoko      Laffoon   100.00  100.00   100.00   34.98   94.55   \n",
       "16    Rebecca         Duck    70.79   97.81    52.25   19.76  -13.93   \n",
       "17    Elwanda       Hyland    45.69   74.86    43.10   45.00   76.72   \n",
       "18   Gretchen      Kerrick    68.70   75.87   -14.87   57.32   84.28   \n",
       "19  Winnifred      Colonna    83.79  100.00    85.66    3.94  100.00   \n",
       "20     Gidget      Casseus   100.00  100.00   100.00   99.52   62.59   \n",
       "21     Elaina     Mcdougal   100.00  100.00    80.29  100.00  -36.81   \n",
       "22   Shoshana   Goldberger    55.10  100.00   100.00  100.00  100.00   \n",
       "23  Argentina       Nelson   100.00  100.00    40.44  100.00  100.00   \n",
       "24       Lyle     Millsaps   100.00   71.88   100.00  -17.33  100.00   \n",
       "25      Janay       Julius    41.70  100.00    55.90   75.53  100.00   \n",
       "26    Devorah       Heyden     0.84   18.61    50.14   83.58   65.68   \n",
       "27     Thelma    Romberger    72.41   61.00   100.00   76.38   51.37   \n",
       "28    Armanda      Hendley    35.40   66.92    69.67   71.08   -2.34   \n",
       "29     Raymon      Myerson    49.83   27.36    61.90   72.97   13.11   \n",
       "\n",
       "    Final Grade  average marks  Standard deviation  \n",
       "0        184.00         36.800            5.792507  \n",
       "1        365.23         73.046            0.825077  \n",
       "2        381.56         76.312            1.421364  \n",
       "3        404.31         80.862            2.252077  \n",
       "4        407.59         81.518            2.371846  \n",
       "5        262.87         52.574            2.912582  \n",
       "6        403.86         80.772            2.235645  \n",
       "7        366.75         73.350            0.880580  \n",
       "8        475.81         95.162            4.862888  \n",
       "9        341.14         68.228            0.054565  \n",
       "10       187.95         37.590            5.648273  \n",
       "11       274.37         54.874            2.492661  \n",
       "12       429.01         85.802            3.153993  \n",
       "13       394.74         78.948            1.902630  \n",
       "14       338.85         67.770            0.138184  \n",
       "15       429.53         85.906            3.172981  \n",
       "16       226.68         45.336            4.234054  \n",
       "17       285.37         57.074            2.090998  \n",
       "18       271.30         54.260            2.604762  \n",
       "19       373.39         74.678            1.123038  \n",
       "20       462.11         92.422            4.362635  \n",
       "21       343.48         68.696            0.030879  \n",
       "22       455.10         91.020            4.106666  \n",
       "23       440.44         88.088            3.571358  \n",
       "24       354.55         70.910            0.435099  \n",
       "25       373.13         74.626            1.113544  \n",
       "26       218.85         43.770            4.519965  \n",
       "27       361.16         72.232            0.676462  \n",
       "28       240.73         48.146            3.721020  \n",
       "29       225.17         45.034            4.289191  "
      ]
     },
     "execution_count": 270,
     "metadata": {},
     "output_type": "execute_result"
    }
   ],
   "source": [
    "grades_file['Standard deviation'] = 0.0\n",
    "m = grades_file['average marks'].mean()         # mean of the marks for the entire class\n",
    "l = len(grades_file)\n",
    "idx = 0\n",
    "for r in grades_file.iterrows():\n",
    "    std = np.sqrt(np.square(r[1]['average marks'] - m)/l)    # for each student the average marks are seen how much they deviate\n",
    "    grades_file['Standard deviation'][idx] = std                    # from the mean of the entire class\n",
    "    idx += 1\n",
    "\n",
    "\n",
    "grades_file"
   ]
  },
  {
   "cell_type": "markdown",
   "id": "11763ed0",
   "metadata": {},
   "source": [
    "Plot the average points for all the students"
   ]
  },
  {
   "cell_type": "code",
   "execution_count": 271,
   "id": "5388c9a4",
   "metadata": {},
   "outputs": [
    {
     "data": {
      "text/plain": [
       "<AxesSubplot:xlabel='First Name', ylabel='Average marks'>"
      ]
     },
     "execution_count": 271,
     "metadata": {},
     "output_type": "execute_result"
    },
    {
     "data": {
      "image/png": "[encoded data removed]",
      "text/plain": [
       "<Figure size 432x288 with 1 Axes>"
      ]
     },
     "metadata": {
      "needs_background": "light"
     },
     "output_type": "display_data"
    }
   ],
   "source": [
    "grades_file.plot('First Name', 'average marks',ylabel = 'Average marks', kind = 'line', legend = False)"
   ]
  },
  {
   "cell_type": "markdown",
   "id": "3efd232b",
   "metadata": {},
   "source": [
    "For each student assign a grade based on the following rubric."
   ]
  },
  {
   "cell_type": "markdown",
   "id": "a948a44c",
   "metadata": {},
   "source": [
    "Firstly all the students are assigned grade F and then for each partition the grades are updated as shown below:"
   ]
  },
  {
   "cell_type": "code",
   "execution_count": 275,
   "id": "31d4bfb6",
   "metadata": {},
   "outputs": [],
   "source": [
    "list_grades = ['A+', 'A', 'A-', 'B+', 'B', 'B-', 'C+', 'C', 'D']\n",
    "grades_file['Grade'] = 'F'\n",
    "c = 0\n",
    "while c <= 40:        # c is used to update scale as well as to assign grades\n",
    "    for i, val in enumerate(grades_file['average marks']):\n",
    "        if (val >= 95 - c)  and (val < 100 - c):\n",
    "            grades_file.loc[i, 'Grade'] = list_grades[c//5]\n",
    "    c += 5"
   ]
  },
  {
   "cell_type": "code",
   "execution_count": 276,
   "id": "650bc3f6",
   "metadata": {},
   "outputs": [
    {
     "data": {
      "text/html": [
       "<div>\n",
       "<style scoped>\n",
       "    .dataframe tbody tr th:only-of-type {\n",
       "        vertical-align: middle;\n",
       "    }\n",
       "\n",
       "    .dataframe tbody tr th {\n",
       "        vertical-align: top;\n",
       "    }\n",
       "\n",
       "    .dataframe thead th {\n",
       "        text-align: right;\n",
       "    }\n",
       "</style>\n",
       "<table border=\"1\" class=\"dataframe\">\n",
       "  <thead>\n",
       "    <tr style=\"text-align: right;\">\n",
       "      <th></th>\n",
       "      <th>First Name</th>\n",
       "      <th>Last Name</th>\n",
       "      <th>average marks</th>\n",
       "      <th>Grade</th>\n",
       "    </tr>\n",
       "  </thead>\n",
       "  <tbody>\n",
       "    <tr>\n",
       "      <th>0</th>\n",
       "      <td>Robyn</td>\n",
       "      <td>Hobgood</td>\n",
       "      <td>36.800</td>\n",
       "      <td>F</td>\n",
       "    </tr>\n",
       "    <tr>\n",
       "      <th>1</th>\n",
       "      <td>Eddy</td>\n",
       "      <td>Swearngin</td>\n",
       "      <td>73.046</td>\n",
       "      <td>B-</td>\n",
       "    </tr>\n",
       "    <tr>\n",
       "      <th>2</th>\n",
       "      <td>Leoma</td>\n",
       "      <td>Bridgman</td>\n",
       "      <td>76.312</td>\n",
       "      <td>B</td>\n",
       "    </tr>\n",
       "    <tr>\n",
       "      <th>3</th>\n",
       "      <td>Arnetta</td>\n",
       "      <td>Peart</td>\n",
       "      <td>80.862</td>\n",
       "      <td>B+</td>\n",
       "    </tr>\n",
       "    <tr>\n",
       "      <th>4</th>\n",
       "      <td>Maryland</td>\n",
       "      <td>Colby</td>\n",
       "      <td>81.518</td>\n",
       "      <td>B+</td>\n",
       "    </tr>\n",
       "    <tr>\n",
       "      <th>5</th>\n",
       "      <td>Sherron</td>\n",
       "      <td>Sherron</td>\n",
       "      <td>52.574</td>\n",
       "      <td>F</td>\n",
       "    </tr>\n",
       "    <tr>\n",
       "      <th>6</th>\n",
       "      <td>Glendora</td>\n",
       "      <td>Christopher</td>\n",
       "      <td>80.772</td>\n",
       "      <td>B+</td>\n",
       "    </tr>\n",
       "    <tr>\n",
       "      <th>7</th>\n",
       "      <td>Darlena</td>\n",
       "      <td>Gunn</td>\n",
       "      <td>73.350</td>\n",
       "      <td>B-</td>\n",
       "    </tr>\n",
       "    <tr>\n",
       "      <th>8</th>\n",
       "      <td>Aldo</td>\n",
       "      <td>Armas</td>\n",
       "      <td>95.162</td>\n",
       "      <td>A+</td>\n",
       "    </tr>\n",
       "    <tr>\n",
       "      <th>9</th>\n",
       "      <td>Tiny</td>\n",
       "      <td>Jack</td>\n",
       "      <td>68.228</td>\n",
       "      <td>C+</td>\n",
       "    </tr>\n",
       "    <tr>\n",
       "      <th>10</th>\n",
       "      <td>Carlton</td>\n",
       "      <td>Elms</td>\n",
       "      <td>37.590</td>\n",
       "      <td>F</td>\n",
       "    </tr>\n",
       "    <tr>\n",
       "      <th>11</th>\n",
       "      <td>Lauretta</td>\n",
       "      <td>Herbert</td>\n",
       "      <td>54.874</td>\n",
       "      <td>F</td>\n",
       "    </tr>\n",
       "    <tr>\n",
       "      <th>12</th>\n",
       "      <td>Almeta</td>\n",
       "      <td>Dimond</td>\n",
       "      <td>85.802</td>\n",
       "      <td>A-</td>\n",
       "    </tr>\n",
       "    <tr>\n",
       "      <th>13</th>\n",
       "      <td>Phoebe</td>\n",
       "      <td>Schill</td>\n",
       "      <td>78.948</td>\n",
       "      <td>B</td>\n",
       "    </tr>\n",
       "    <tr>\n",
       "      <th>14</th>\n",
       "      <td>Krystyna</td>\n",
       "      <td>Paris</td>\n",
       "      <td>67.770</td>\n",
       "      <td>C+</td>\n",
       "    </tr>\n",
       "    <tr>\n",
       "      <th>15</th>\n",
       "      <td>Miyoko</td>\n",
       "      <td>Laffoon</td>\n",
       "      <td>85.906</td>\n",
       "      <td>A-</td>\n",
       "    </tr>\n",
       "    <tr>\n",
       "      <th>16</th>\n",
       "      <td>Rebecca</td>\n",
       "      <td>Duck</td>\n",
       "      <td>45.336</td>\n",
       "      <td>F</td>\n",
       "    </tr>\n",
       "    <tr>\n",
       "      <th>17</th>\n",
       "      <td>Elwanda</td>\n",
       "      <td>Hyland</td>\n",
       "      <td>57.074</td>\n",
       "      <td>D</td>\n",
       "    </tr>\n",
       "    <tr>\n",
       "      <th>18</th>\n",
       "      <td>Gretchen</td>\n",
       "      <td>Kerrick</td>\n",
       "      <td>54.260</td>\n",
       "      <td>F</td>\n",
       "    </tr>\n",
       "    <tr>\n",
       "      <th>19</th>\n",
       "      <td>Winnifred</td>\n",
       "      <td>Colonna</td>\n",
       "      <td>74.678</td>\n",
       "      <td>B-</td>\n",
       "    </tr>\n",
       "    <tr>\n",
       "      <th>20</th>\n",
       "      <td>Gidget</td>\n",
       "      <td>Casseus</td>\n",
       "      <td>92.422</td>\n",
       "      <td>A</td>\n",
       "    </tr>\n",
       "    <tr>\n",
       "      <th>21</th>\n",
       "      <td>Elaina</td>\n",
       "      <td>Mcdougal</td>\n",
       "      <td>68.696</td>\n",
       "      <td>C+</td>\n",
       "    </tr>\n",
       "    <tr>\n",
       "      <th>22</th>\n",
       "      <td>Shoshana</td>\n",
       "      <td>Goldberger</td>\n",
       "      <td>91.020</td>\n",
       "      <td>A</td>\n",
       "    </tr>\n",
       "    <tr>\n",
       "      <th>23</th>\n",
       "      <td>Argentina</td>\n",
       "      <td>Nelson</td>\n",
       "      <td>88.088</td>\n",
       "      <td>A-</td>\n",
       "    </tr>\n",
       "    <tr>\n",
       "      <th>24</th>\n",
       "      <td>Lyle</td>\n",
       "      <td>Millsaps</td>\n",
       "      <td>70.910</td>\n",
       "      <td>B-</td>\n",
       "    </tr>\n",
       "    <tr>\n",
       "      <th>25</th>\n",
       "      <td>Janay</td>\n",
       "      <td>Julius</td>\n",
       "      <td>74.626</td>\n",
       "      <td>B-</td>\n",
       "    </tr>\n",
       "    <tr>\n",
       "      <th>26</th>\n",
       "      <td>Devorah</td>\n",
       "      <td>Heyden</td>\n",
       "      <td>43.770</td>\n",
       "      <td>F</td>\n",
       "    </tr>\n",
       "    <tr>\n",
       "      <th>27</th>\n",
       "      <td>Thelma</td>\n",
       "      <td>Romberger</td>\n",
       "      <td>72.232</td>\n",
       "      <td>B-</td>\n",
       "    </tr>\n",
       "    <tr>\n",
       "      <th>28</th>\n",
       "      <td>Armanda</td>\n",
       "      <td>Hendley</td>\n",
       "      <td>48.146</td>\n",
       "      <td>F</td>\n",
       "    </tr>\n",
       "    <tr>\n",
       "      <th>29</th>\n",
       "      <td>Raymon</td>\n",
       "      <td>Myerson</td>\n",
       "      <td>45.034</td>\n",
       "      <td>F</td>\n",
       "    </tr>\n",
       "  </tbody>\n",
       "</table>\n",
       "</div>"
      ],
      "text/plain": [
       "   First Name    Last Name  average marks Grade\n",
       "0       Robyn      Hobgood         36.800     F\n",
       "1        Eddy    Swearngin         73.046    B-\n",
       "2       Leoma     Bridgman         76.312     B\n",
       "3     Arnetta        Peart         80.862    B+\n",
       "4    Maryland        Colby         81.518    B+\n",
       "5     Sherron      Sherron         52.574     F\n",
       "6    Glendora  Christopher         80.772    B+\n",
       "7     Darlena         Gunn         73.350    B-\n",
       "8        Aldo        Armas         95.162    A+\n",
       "9        Tiny         Jack         68.228    C+\n",
       "10    Carlton         Elms         37.590     F\n",
       "11   Lauretta      Herbert         54.874     F\n",
       "12     Almeta       Dimond         85.802    A-\n",
       "13     Phoebe       Schill         78.948     B\n",
       "14   Krystyna        Paris         67.770    C+\n",
       "15     Miyoko      Laffoon         85.906    A-\n",
       "16    Rebecca         Duck         45.336     F\n",
       "17    Elwanda       Hyland         57.074     D\n",
       "18   Gretchen      Kerrick         54.260     F\n",
       "19  Winnifred      Colonna         74.678    B-\n",
       "20     Gidget      Casseus         92.422     A\n",
       "21     Elaina     Mcdougal         68.696    C+\n",
       "22   Shoshana   Goldberger         91.020     A\n",
       "23  Argentina       Nelson         88.088    A-\n",
       "24       Lyle     Millsaps         70.910    B-\n",
       "25      Janay       Julius         74.626    B-\n",
       "26    Devorah       Heyden         43.770     F\n",
       "27     Thelma    Romberger         72.232    B-\n",
       "28    Armanda      Hendley         48.146     F\n",
       "29     Raymon      Myerson         45.034     F"
      ]
     },
     "execution_count": 276,
     "metadata": {},
     "output_type": "execute_result"
    }
   ],
   "source": [
    "grades_file.loc[:, ['First Name', 'Last Name', 'average marks', 'Grade']]"
   ]
  },
  {
   "cell_type": "markdown",
   "id": "09a6b28c",
   "metadata": {},
   "source": [
    "Plot the histogram of the final grades."
   ]
  },
  {
   "cell_type": "code",
   "execution_count": 277,
   "id": "4fcec849",
   "metadata": {},
   "outputs": [
    {
     "data": {
      "image/png": "[encoded data removed]",
      "text/plain": [
       "<Figure size 432x288 with 1 Axes>"
      ]
     },
     "metadata": {
      "needs_background": "light"
     },
     "output_type": "display_data"
    }
   ],
   "source": [
    "plt.hist(x = grades_file['Grade'], bins = 9)\n",
    "plt.xlabel('Grades')\n",
    "plt.show()"
   ]
  },
  {
   "cell_type": "markdown",
   "id": "66fdc6b6",
   "metadata": {},
   "source": [
    "# Exercise 2: Linear Regression through exact form."
   ]
  },
  {
   "cell_type": "markdown",
   "id": "ecf29c31",
   "metadata": {},
   "source": [
    "In this exercise, you will implement linear regression that was introduced in the introduction Machine Learning Lecture. The method we are implementing here today is for a very basic univariate linear regression."
   ]
  },
  {
   "cell_type": "markdown",
   "id": "1b5790fe",
   "metadata": {},
   "source": [
    "Generate 3 sets of simple data; a matrix A with dimensions 100 × 2. Initialize it with normal distribution µ = 2 and σ = [0.01, 0.1, 1]."
   ]
  },
  {
   "cell_type": "code",
   "execution_count": 278,
   "id": "f5bde21c",
   "metadata": {},
   "outputs": [],
   "source": [
    "A_1 = np.random.normal(2, 0.01, (100,2))\n",
    "A_2 = np.random.normal(2, 0.1, (100,2))\n",
    "A_3 = np.random.normal(2, 1, (100,2))"
   ]
  },
  {
   "cell_type": "markdown",
   "id": "ca8ac45b",
   "metadata": {},
   "source": [
    "Implement LEARN-SIMPLE-LINREG algorithm and train it using matrix A to learn values of β0 and β1."
   ]
  },
  {
   "cell_type": "code",
   "execution_count": 279,
   "id": "dfc74aaa",
   "metadata": {},
   "outputs": [],
   "source": [
    "def LEARN_SIMPLE_LINREG(A):\n",
    "    n = A.shape[0]\n",
    "    X = A[:, 0]         # features\n",
    "    Y = A[:, 1]               # targets\n",
    "    X_avg = np.sum(X)/n\n",
    "    Y_avg = np.sum(Y)/n\n",
    "    beta_1 = np.sum(np.multiply((X - X_avg), (Y - Y_avg)))/(np.sum((X - X_avg)**2))\n",
    "    beta_0 = Y_avg - beta_1*X_avg\n",
    "    return beta_0, beta_1\n"
   ]
  },
  {
   "cell_type": "markdown",
   "id": "c1a9168d",
   "metadata": {},
   "source": [
    "Implement PREDICT-SIMPLE-LINREG and calculate the points for each training example in matrix A."
   ]
  },
  {
   "cell_type": "code",
   "execution_count": 280,
   "id": "449d605d",
   "metadata": {},
   "outputs": [],
   "source": [
    "def PREDICT_SIMPLE_LINREG(A, b0, b1):\n",
    "    X = A[:, 0]\n",
    "    Y_pred = b0 + np.dot(b1, X)\n",
    "    return Y_pred"
   ]
  },
  {
   "cell_type": "markdown",
   "id": "264bfcd0",
   "metadata": {},
   "source": [
    "Plot the training data (use plt.scatter) and your predicted line (use plt.plot)."
   ]
  },
  {
   "cell_type": "markdown",
   "id": "c7ee2d90",
   "metadata": {},
   "source": [
    "For the first dataset:"
   ]
  },
  {
   "cell_type": "code",
   "execution_count": 290,
   "id": "73aec0e1",
   "metadata": {},
   "outputs": [
    {
     "name": "stdout",
     "output_type": "stream",
     "text": [
      "beta0 = 1.923684237848655 and beta1 = 0.03837470190577874\n",
      "-----------------------------\n",
      "Y_predicted = [1.99995191 2.0009827  1.9996912  2.00006963 2.00054336 2.00154301\n",
      " 2.00074331 2.00046842 2.00062101 2.00035024 2.00048925 2.00059017\n",
      " 1.9997046  2.00030794 2.00086557 2.00044604 2.00070651 2.00002639\n",
      " 2.00037979 1.99956866 2.0002913  2.00013733 2.00082964 2.00091804\n",
      " 2.0009935  1.99965261 2.00041153 2.00066764 2.00063236 2.00024714\n",
      " 2.00124337 2.00067998 2.00042023 1.99979451 2.00079582 2.00039211\n",
      " 2.00072855 2.00027175 2.00033195 2.000918   2.00124402 2.00044738\n",
      " 2.00044442 2.00213268 1.99988451 2.00075523 2.0000039  2.00060307\n",
      " 2.00037822 2.00029989 2.00025786 2.00040262 1.99994936 2.0006458\n",
      " 2.00030275 1.99960359 2.00073735 2.00074339 2.00110239 2.00016394\n",
      " 2.00066464 1.99993387 2.00100082 2.00051055 2.00083211 2.00054143\n",
      " 2.00031249 2.000533   2.00064803 2.00083993 1.99998697 2.00062777\n",
      " 2.00011888 2.00079006 2.00035448 2.00015412 2.00095413 2.00018341\n",
      " 2.00046183 2.00092143 2.00155915 2.00012415 2.00029083 2.00122548\n",
      " 2.00007761 2.00039272 2.00059908 2.00028319 2.00070645 2.00030839\n",
      " 2.00073094 2.00093737 1.99985126 2.00062223 2.00066359 2.0006622\n",
      " 2.00065997 2.00043068 2.00050888 2.00076014]\n"
     ]
    }
   ],
   "source": [
    "b0_A1, b1_A1 = LEARN_SIMPLE_LINREG(A_1)\n",
    "Y_1_pred = PREDICT_SIMPLE_LINREG(A_1, b0_A1, b1_A1)\n",
    "print(f'beta0 = {b0_A1} and beta1 = {b1_A1}')\n",
    "print('-----------------------------')\n",
    "print(f'Y_predicted = {Y_1_pred}')"
   ]
  },
  {
   "cell_type": "code",
   "execution_count": 283,
   "id": "df3fb22f",
   "metadata": {},
   "outputs": [
    {
     "data": {
      "text/plain": [
       "[<matplotlib.lines.Line2D at 0x24302df0d90>]"
      ]
     },
     "execution_count": 283,
     "metadata": {},
     "output_type": "execute_result"
    },
    {
     "data": {
      "image/png": "[encoded data removed]",
      "text/plain": [
       "<Figure size 432x288 with 1 Axes>"
      ]
     },
     "metadata": {
      "needs_background": "light"
     },
     "output_type": "display_data"
    }
   ],
   "source": [
    "X_1 = A_1[:, 0]\n",
    "Y_1 = A_1[:, 1]\n",
    "plt.scatter(X_1, Y_1)\n",
    "plt.plot(X_1, Y_1_pred, 'r')"
   ]
  },
  {
   "cell_type": "markdown",
   "id": "09d6e518",
   "metadata": {},
   "source": [
    "For the second dataset:"
   ]
  },
  {
   "cell_type": "code",
   "execution_count": 291,
   "id": "b6093223",
   "metadata": {},
   "outputs": [
    {
     "name": "stdout",
     "output_type": "stream",
     "text": [
      "beta0 = 2.02628840091477 and beta1 = -0.014729069654950263\n",
      "-----------------------------\n",
      "Y_predicted = [1.99341134 1.99599065 1.998023   1.99489795 1.99871423 1.99826652\n",
      " 1.99659908 1.99570436 2.00044655 1.99809795 1.99379935 1.996146\n",
      " 1.99681993 1.99541782 1.99580475 1.99323492 1.99508658 1.99430314\n",
      " 1.99774218 2.00123335 1.9973672  1.99876856 1.99837054 1.99520326\n",
      " 1.99874573 1.99716191 1.99489783 1.99574457 1.99695922 1.99938477\n",
      " 1.99718211 1.99968102 1.99734039 1.99555843 1.9988796  2.00066766\n",
      " 1.99666954 1.99706927 1.9937867  1.9968819  1.99441469 1.99902407\n",
      " 1.99859511 1.99323803 1.9999913  1.9969301  1.99633658 1.99683156\n",
      " 1.99604843 1.99581262 1.99943797 1.99899407 1.99782845 1.99642048\n",
      " 1.99861172 1.99604654 1.99778596 1.99706194 1.99650744 1.99759882\n",
      " 1.99668673 1.99917735 1.99664171 1.99798005 1.99704878 1.99632148\n",
      " 1.99819716 1.99885004 1.99645767 1.99454423 1.99607425 1.9995669\n",
      " 1.99787888 1.9961319  1.99824492 1.99694224 1.99543443 1.99857536\n",
      " 1.99921045 1.99677775 1.99558179 1.99681784 1.99865845 1.99590273\n",
      " 1.99698683 1.99707842 1.99305514 1.99724704 1.99732372 1.99773421\n",
      " 1.99490605 1.99699604 1.99691655 1.99757683 1.99501031 1.99632665\n",
      " 1.9945203  1.99602363 1.99892098 1.99671063]\n"
     ]
    }
   ],
   "source": [
    "b0_A2, b1_A2 = LEARN_SIMPLE_LINREG(A_2)\n",
    "Y_2_pred = PREDICT_SIMPLE_LINREG(A_2, b0_A2, b1_A2)\n",
    "print(f'beta0 = {b0_A2} and beta1 = {b1_A2}')\n",
    "print('-----------------------------')\n",
    "print(f'Y_predicted = {Y_2_pred}')"
   ]
  },
  {
   "cell_type": "code",
   "execution_count": 292,
   "id": "393767df",
   "metadata": {},
   "outputs": [
    {
     "data": {
      "text/plain": [
       "[<matplotlib.lines.Line2D at 0x24302f2e310>]"
      ]
     },
     "execution_count": 292,
     "metadata": {},
     "output_type": "execute_result"
    },
    {
     "data": {
      "image/png": "[encoded data removed]",
      "text/plain": [
       "<Figure size 432x288 with 1 Axes>"
      ]
     },
     "metadata": {
      "needs_background": "light"
     },
     "output_type": "display_data"
    }
   ],
   "source": [
    "X_2 = A_2[:, 0]\n",
    "Y_2 = A_2[:, 1]\n",
    "plt.scatter(X_2, Y_2)\n",
    "plt.plot(X_2, Y_2_pred, 'r')"
   ]
  },
  {
   "cell_type": "markdown",
   "id": "785e3f2d",
   "metadata": {},
   "source": [
    "For the third dataset:"
   ]
  },
  {
   "cell_type": "code",
   "execution_count": 293,
   "id": "47c68d82",
   "metadata": {},
   "outputs": [
    {
     "name": "stdout",
     "output_type": "stream",
     "text": [
      "beta0 = 1.808230231537007 and beta1 = 0.10916908808287593\n",
      "-----------------------------\n",
      "Y_predicted = [2.07533362 1.72651341 2.11969467 2.11666537 1.93417398 2.10326062\n",
      " 2.08037912 2.08526105 1.8428322  2.10722859 2.04741597 2.24739028\n",
      " 2.06993549 2.04419254 1.97383957 2.01699452 2.09936595 1.88150931\n",
      " 1.89202332 2.16823381 2.2148579  1.95106634 1.96422482 2.16394707\n",
      " 2.00948327 2.00789559 1.86556012 1.95297903 2.11378632 1.9110164\n",
      " 2.05130539 2.14082455 2.10600211 2.2495001  1.93682294 1.93549653\n",
      " 2.0389442  2.1673048  2.04219972 2.20039477 2.11061466 1.98260496\n",
      " 2.08011081 1.85521138 1.91805181 2.00880269 2.08198481 1.99152886\n",
      " 1.95091319 2.0077893  2.10670164 2.06663726 1.76952938 2.16415728\n",
      " 2.08917519 2.25535727 1.8139084  2.01071593 2.19825355 2.04301551\n",
      " 2.11834466 2.06819308 2.1441392  1.93597323 2.10831354 1.91467395\n",
      " 1.92711034 2.08863211 1.92137034 2.0741417  2.07520936 2.04851537\n",
      " 2.04228659 2.36133728 2.13040748 1.87379555 2.34222796 1.77862993\n",
      " 2.03227777 2.13840766 1.95378461 2.16654351 1.83199334 2.05514734\n",
      " 2.00925992 1.82780393 2.00938812 2.09075284 1.85122384 1.76759016\n",
      " 2.2345567  2.19975195 2.11547758 2.03864834 2.15602309 1.98486798\n",
      " 2.18143224 1.97948497 1.86216744 2.08799992]\n"
     ]
    }
   ],
   "source": [
    "b0_A3, b1_A3 = LEARN_SIMPLE_LINREG(A_3)\n",
    "Y_3_pred = PREDICT_SIMPLE_LINREG(A_3, b0_A3, b1_A3)\n",
    "print(f'beta0 = {b0_A3} and beta1 = {b1_A3}')\n",
    "print('-----------------------------')\n",
    "print(f'Y_predicted = {Y_3_pred}')"
   ]
  },
  {
   "cell_type": "code",
   "execution_count": 294,
   "id": "5f1b3ae3",
   "metadata": {},
   "outputs": [
    {
     "data": {
      "text/plain": [
       "[<matplotlib.lines.Line2D at 0x24302f991f0>]"
      ]
     },
     "execution_count": 294,
     "metadata": {},
     "output_type": "execute_result"
    },
    {
     "data": {
      "image/png": "[encoded data removed]",
      "text/plain": [
       "<Figure size 432x288 with 1 Axes>"
      ]
     },
     "metadata": {
      "needs_background": "light"
     },
     "output_type": "display_data"
    }
   ],
   "source": [
    "X_3 = A_3[:, 0]\n",
    "Y_3 = A_3[:, 1]\n",
    "plt.scatter(X_3, Y_3)\n",
    "plt.plot(X_3, Y_3_pred, 'r')"
   ]
  },
  {
   "cell_type": "markdown",
   "id": "eb7ce0a8",
   "metadata": {},
   "source": [
    "Put β0 to zero and rerun the program to generate the predicted line. Comment on the change you see for the varying values of σ"
   ]
  },
  {
   "cell_type": "code",
   "execution_count": 295,
   "id": "7579dd03",
   "metadata": {},
   "outputs": [
    {
     "data": {
      "text/plain": [
       "[<matplotlib.lines.Line2D at 0x24304016700>]"
      ]
     },
     "execution_count": 295,
     "metadata": {},
     "output_type": "execute_result"
    },
    {
     "data": {
      "image/png": "[encoded data removed]",
      "text/plain": [
       "<Figure size 432x288 with 1 Axes>"
      ]
     },
     "metadata": {
      "needs_background": "light"
     },
     "output_type": "display_data"
    }
   ],
   "source": [
    "Y1_pred = PREDICT_SIMPLE_LINREG(A_1, 0, b1_A1)\n",
    "plt.scatter(X_1, Y_1)\n",
    "plt.plot(X_1, Y1_pred, 'r')"
   ]
  },
  {
   "cell_type": "code",
   "execution_count": 296,
   "id": "35f9e10e",
   "metadata": {},
   "outputs": [
    {
     "data": {
      "text/plain": [
       "[<matplotlib.lines.Line2D at 0x243040288b0>]"
      ]
     },
     "execution_count": 296,
     "metadata": {},
     "output_type": "execute_result"
    },
    {
     "data": {
      "image/png": "[encoded data removed]",
      "text/plain": [
       "<Figure size 432x288 with 1 Axes>"
      ]
     },
     "metadata": {
      "needs_background": "light"
     },
     "output_type": "display_data"
    }
   ],
   "source": [
    "Y2_pred = PREDICT_SIMPLE_LINREG(A_2, 0, b1_A2)\n",
    "plt.scatter(X_2, Y_2)\n",
    "plt.plot(X_2, Y2_pred, 'r')"
   ]
  },
  {
   "cell_type": "code",
   "execution_count": 297,
   "id": "3ca17ea6",
   "metadata": {},
   "outputs": [
    {
     "data": {
      "text/plain": [
       "[<matplotlib.lines.Line2D at 0x24302cefd60>]"
      ]
     },
     "execution_count": 297,
     "metadata": {},
     "output_type": "execute_result"
    },
    {
     "data": {
      "image/png": "[encoded data removed]",
      "text/plain": [
       "<Figure size 432x288 with 1 Axes>"
      ]
     },
     "metadata": {
      "needs_background": "light"
     },
     "output_type": "display_data"
    }
   ],
   "source": [
    "Y3_pred = PREDICT_SIMPLE_LINREG(A_3, 0, b1_A3)\n",
    "plt.scatter(X_3, Y_3)\n",
    "plt.plot(X_3, Y3_pred, 'r')"
   ]
  },
  {
   "cell_type": "markdown",
   "id": "8f95572c",
   "metadata": {},
   "source": [
    "Putting beta0 = 0 makes prediction over all dataset bad but as the variance increases from 0.01 to 1, the dataset is more scattered and hence we can observe that the predicted line moves slowly towards the datapoints with increasing values of variance."
   ]
  },
  {
   "cell_type": "markdown",
   "id": "70cfddaa",
   "metadata": {},
   "source": [
    "Put β1 to zero and rerun the program to generate the predicted line. Comment on the change you see for the varying values of σ"
   ]
  },
  {
   "cell_type": "code",
   "execution_count": 298,
   "id": "c1879440",
   "metadata": {},
   "outputs": [
    {
     "data": {
      "text/plain": [
       "[<matplotlib.lines.Line2D at 0x24302deaaf0>]"
      ]
     },
     "execution_count": 298,
     "metadata": {},
     "output_type": "execute_result"
    },
    {
     "data": {
      "image/png": "[encoded data removed]",
      "text/plain": [
       "<Figure size 432x288 with 1 Axes>"
      ]
     },
     "metadata": {
      "needs_background": "light"
     },
     "output_type": "display_data"
    }
   ],
   "source": [
    "Y1_predict = PREDICT_SIMPLE_LINREG(A_1, b0_A1, 0)\n",
    "plt.scatter(X_1, Y_1)\n",
    "plt.plot(X_1, Y1_predict, 'r')"
   ]
  },
  {
   "cell_type": "code",
   "execution_count": 299,
   "id": "cd103c56",
   "metadata": {},
   "outputs": [
    {
     "data": {
      "text/plain": [
       "[<matplotlib.lines.Line2D at 0x24302dc2730>]"
      ]
     },
     "execution_count": 299,
     "metadata": {},
     "output_type": "execute_result"
    },
    {
     "data": {
      "image/png": "[encoded data removed]",
      "text/plain": [
       "<Figure size 432x288 with 1 Axes>"
      ]
     },
     "metadata": {
      "needs_background": "light"
     },
     "output_type": "display_data"
    }
   ],
   "source": [
    "Y2_predict = PREDICT_SIMPLE_LINREG(A_2, b0_A2, 0)\n",
    "plt.scatter(X_2, Y_2)\n",
    "plt.plot(X_2, Y2_predict, 'r')"
   ]
  },
  {
   "cell_type": "code",
   "execution_count": 300,
   "id": "8eb18aa9",
   "metadata": {},
   "outputs": [
    {
     "data": {
      "text/plain": [
       "[<matplotlib.lines.Line2D at 0x24302ab2e20>]"
      ]
     },
     "execution_count": 300,
     "metadata": {},
     "output_type": "execute_result"
    },
    {
     "data": {
      "image/png": "[encoded data removed]",
      "text/plain": [
       "<Figure size 432x288 with 1 Axes>"
      ]
     },
     "metadata": {
      "needs_background": "light"
     },
     "output_type": "display_data"
    }
   ],
   "source": [
    "Y3_predict = PREDICT_SIMPLE_LINREG(A_3, b0_A3, 0)\n",
    "plt.scatter(X_3, Y_3)\n",
    "plt.plot(X_3, Y3_predict, 'r')"
   ]
  },
  {
   "cell_type": "markdown",
   "id": "034eea41",
   "metadata": {},
   "source": [
    "Putting beta1 = 0 again makes prediction over all dataset bad but as the variance increases from 0.01 to 1, the dataset is more scattered and hence we can observe that the predicted line moves slowly towards the datapoints with increasing values of variance."
   ]
  },
  {
   "cell_type": "markdown",
   "id": "b866eded",
   "metadata": {},
   "source": [
    "Use numpy.linalg lstsq to replace step 2 for learning values of β0 and β1. Explain the difference between your values and the values from numpy.linalg lstsq."
   ]
  },
  {
   "cell_type": "markdown",
   "id": "30bca064",
   "metadata": {},
   "source": [
    "For the first dataset:"
   ]
  },
  {
   "cell_type": "code",
   "execution_count": 303,
   "id": "8fc07ea5",
   "metadata": {},
   "outputs": [
    {
     "data": {
      "text/plain": [
       "array([1.92368424, 0.0383747 ])"
      ]
     },
     "execution_count": 303,
     "metadata": {},
     "output_type": "execute_result"
    }
   ],
   "source": [
    "bias_column = np.ones(shape=(100,1))\n",
    "A1 = np.append(bias_column, A_1, axis=1)\n",
    "X1 = A1[:, :-1]\n",
    "np.linalg.lstsq(X1, Y_1, rcond = None)[0]"
   ]
  },
  {
   "cell_type": "code",
   "execution_count": 302,
   "id": "a790ef5e",
   "metadata": {},
   "outputs": [
    {
     "data": {
      "text/plain": [
       "(1.923684237848655, 0.03837470190577874)"
      ]
     },
     "execution_count": 302,
     "metadata": {},
     "output_type": "execute_result"
    }
   ],
   "source": [
    "b0_A1, b1_A1"
   ]
  },
  {
   "cell_type": "markdown",
   "id": "15f1c308",
   "metadata": {},
   "source": [
    "For the second dataset:"
   ]
  },
  {
   "cell_type": "code",
   "execution_count": 307,
   "id": "314544d8",
   "metadata": {},
   "outputs": [
    {
     "data": {
      "text/plain": [
       "array([ 2.0262884 , -0.01472907])"
      ]
     },
     "execution_count": 307,
     "metadata": {},
     "output_type": "execute_result"
    }
   ],
   "source": [
    "A2 = np.append(bias_column, A_2, axis=1)\n",
    "X2 = A2[:, :-1]\n",
    "np.linalg.lstsq(X2, Y_2, rcond = None)[0]"
   ]
  },
  {
   "cell_type": "code",
   "execution_count": 308,
   "id": "49a2b54c",
   "metadata": {},
   "outputs": [
    {
     "data": {
      "text/plain": [
       "(2.02628840091477, -0.014729069654950263)"
      ]
     },
     "execution_count": 308,
     "metadata": {},
     "output_type": "execute_result"
    }
   ],
   "source": [
    "b0_A2, b1_A2"
   ]
  },
  {
   "cell_type": "markdown",
   "id": "dbafa875",
   "metadata": {},
   "source": [
    "For the third dataset:"
   ]
  },
  {
   "cell_type": "code",
   "execution_count": 309,
   "id": "555c2a29",
   "metadata": {},
   "outputs": [
    {
     "data": {
      "text/plain": [
       "array([1.80823023, 0.10916909])"
      ]
     },
     "execution_count": 309,
     "metadata": {},
     "output_type": "execute_result"
    }
   ],
   "source": [
    "A3 = np.append(bias_column, A_3, axis=1)\n",
    "X3 = A3[:, :-1]\n",
    "np.linalg.lstsq(X3, Y_3, rcond = None)[0]"
   ]
  },
  {
   "cell_type": "code",
   "execution_count": 310,
   "id": "6d5b560c",
   "metadata": {},
   "outputs": [
    {
     "data": {
      "text/plain": [
       "(1.808230231537007, 0.10916908808287593)"
      ]
     },
     "execution_count": 310,
     "metadata": {},
     "output_type": "execute_result"
    }
   ],
   "source": [
    "b0_A3, b1_A3"
   ]
  },
  {
   "cell_type": "markdown",
   "id": "29461da6",
   "metadata": {},
   "source": [
    "The difference in the value of beta's is very small when compared with manually calculated and the one using library because the beta's calculated using library solves the system of equations approximatedly while the other one is the exact solution."
   ]
  }
 ],
 "metadata": {
  "kernelspec": {
   "display_name": "Python 3 (ipykernel)",
   "language": "python",
   "name": "python3"
  },
  "language_info": {
   "codemirror_mode": {
    "name": "ipython",
    "version": 3
   },
   "file_extension": ".py",
   "mimetype": "text/x-python",
   "name": "python",
   "nbconvert_exporter": "python",
   "pygments_lexer": "ipython3",
   "version": "3.9.7"
  }
 },
 "nbformat": 4,
 "nbformat_minor": 5
}
